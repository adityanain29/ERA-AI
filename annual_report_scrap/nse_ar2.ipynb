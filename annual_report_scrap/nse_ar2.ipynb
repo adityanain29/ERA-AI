{
 "cells": [
  {
   "cell_type": "code",
   "execution_count": 1,
   "id": "3df7dde0-fd21-4ff7-b9e3-249b27acf0c8",
   "metadata": {},
   "outputs": [],
   "source": [
    "import requests\n",
    "import pandas as pd\n",
    "import time\n",
    "import random\n",
    "from tqdm import tqdm  # Progress bar\n",
    "from requests.adapters import HTTPAdapter\n",
    "from urllib3.util.retry import Retry\n",
    "from urllib.parse import quote\n",
    "import os"
   ]
  },
  {
   "cell_type": "code",
   "execution_count": 2,
   "id": "a283d12e-67dd-4ab1-801e-0e7b61337a80",
   "metadata": {},
   "outputs": [],
   "source": [
    "# Load NSE codes from a CSV file\n",
    "nse_codes_file = 'refined_companies_tick.csv'  # Path to your input CSV file\n",
    "output_file = 'annual_reports2.csv'  # Path for the final output CSV file\n",
    "temp_output_file = 'temp_annual_reports2.csv'  # Temporary file to save progress\n",
    "\n",
    "# Load NSE codes into a list\n",
    "nse_codes_df = pd.read_csv(nse_codes_file)\n",
    "nse_codes = nse_codes_df['NSE Code'].tolist()  # Assuming your column is named 'nse_code'"
   ]
  },
  {
   "cell_type": "code",
   "execution_count": 3,
   "id": "95544953-3580-419d-856d-f9bdbdbec88b",
   "metadata": {},
   "outputs": [
    {
     "name": "stdout",
     "output_type": "stream",
     "text": [
      "Resuming from checkpoint. 1834 companies already processed.\n"
     ]
    }
   ],
   "source": [
    "# Load previous results if temp file exists\n",
    "if os.path.exists(temp_output_file):\n",
    "    previous_results_df = pd.read_csv(temp_output_file)\n",
    "    fetched_nse_codes = previous_results_df['nse_code'].unique().tolist()\n",
    "    print(f\"Resuming from checkpoint. {len(fetched_nse_codes)} companies already processed.\")\n",
    "else:\n",
    "    previous_results_df = pd.DataFrame()\n",
    "    fetched_nse_codes = []\n",
    "\n",
    "# Filter out NSE codes that have already been fetched\n",
    "nse_codes = [code for code in nse_codes if code not in fetched_nse_codes]\n",
    "\n",
    "# List of rotating User-Agent headers for each request\n",
    "USER_AGENTS = [\n",
    "    'Mozilla/5.0 (X11; Linux x86_64) AppleWebKit/537.36 (KHTML, like Gecko) Chrome/129.0.0.0 Safari/537.36'\n",
    "]"
   ]
  },
  {
   "cell_type": "code",
   "execution_count": 4,
   "id": "b655cef4-256e-4673-8196-42d8170e318a",
   "metadata": {},
   "outputs": [],
   "source": [
    "def fetch_annual_reports(session, nse_code):\n",
    "    # Rotate User-Agent for each request\n",
    "    user_agent = random.choice(USER_AGENTS)\n",
    "\n",
    "    # URL encode the NSE code to handle special characters like & and spaces\n",
    "    encoded_nse_code = quote(nse_code)\n",
    "\n",
    "    # Step 1: Make an initial request to get cookies (no need to encode in this URL)\n",
    "    session.get(f'https://www.nseindia.com/get-quotes/equity?symbol={nse_code}', headers={\n",
    "        'User-Agent': user_agent,\n",
    "        'Accept': 'text/html,application/xhtml+xml,application/xml;q=0.9,image/webp,image/apng,*/*;q=0.8',\n",
    "    })\n",
    "\n",
    "    # Step 2: Use the session with cookies to fetch the API data (use encoded NSE code)\n",
    "    url = f\"https://www.nseindia.com/api/annual-reports?index=equities&symbol={encoded_nse_code}&issuer={encoded_nse_code}\"\n",
    "    headers = {\n",
    "        'User-Agent': user_agent,\n",
    "        'Accept': 'application/json, text/javascript, */*; q=0.01',\n",
    "        'Referer': f'https://www.nseindia.com/get-quotes/equity?symbol={encoded_nse_code}',\n",
    "        'X-Requested-With': 'XMLHttpRequest',\n",
    "    }\n",
    "\n",
    "    # Add random delay to slow down requests (longer delay between 5-10 seconds)\n",
    "    delay = random.uniform(1, 6)\n",
    "    time.sleep(delay)\n",
    "\n",
    "    try:\n",
    "        response = session.get(url, headers=headers)\n",
    "        response.raise_for_status()  # Raise an error for bad responses\n",
    "        return response.json().get('data', [])\n",
    "    except requests.exceptions.HTTPError as err:\n",
    "        print(f\"HTTP error occurred for {nse_code}: {err}\")\n",
    "        return []\n",
    "    except Exception as err:\n",
    "        print(f\"An error occurred for {nse_code}: {err}\")\n",
    "        return []"
   ]
  },
  {
   "cell_type": "code",
   "execution_count": 5,
   "id": "2e66fc81-ff9d-49ea-a846-b267715fecb2",
   "metadata": {},
   "outputs": [],
   "source": [
    "# Initialize a requests session with retry and SSL handling\n",
    "session = requests.Session()\n",
    "retries = Retry(total=5, backoff_factor=0.1, status_forcelist=[429, 500, 502, 503, 504])\n",
    "adapter = HTTPAdapter(max_retries=retries)\n",
    "session.mount('https://', adapter)\n",
    "\n",
    "# Initialize results with previously fetched data if any\n",
    "results = previous_results_df.to_dict('records') if not previous_results_df.empty else []\n"
   ]
  },
  {
   "cell_type": "code",
   "execution_count": 6,
   "id": "245c4b0e-a6ab-4891-aeac-440e58a86cac",
   "metadata": {},
   "outputs": [],
   "source": [
    "# Function to save data incrementally\n",
    "def save_results():\n",
    "    results_df = pd.DataFrame(results)\n",
    "    results_df.to_csv(temp_output_file, index=False)\n",
    "    print(f\"Data saved to {temp_output_file}.\")\n"
   ]
  },
  {
   "cell_type": "code",
   "execution_count": null,
   "id": "cb8ef3ac-f8a1-4f75-b8b1-35abd6308ebf",
   "metadata": {},
   "outputs": [
    {
     "name": "stderr",
     "output_type": "stream",
     "text": [
      "Fetching Annual Reports:   0%|                                                                | 0/1929 [00:00<?, ?it/s]"
     ]
    },
    {
     "name": "stdout",
     "output_type": "stream",
     "text": [
      "Retrying... Attempt 1 for ABBOTINDIA\n",
      "Retrying... Attempt 2 for ABBOTINDIA\n"
     ]
    },
    {
     "name": "stderr",
     "output_type": "stream",
     "text": [
      "Fetching Annual Reports:   0%|                                                      | 1/1929 [00:07<4:03:08,  7.57s/it]"
     ]
    },
    {
     "name": "stdout",
     "output_type": "stream",
     "text": [
      "Retrying... Attempt 1 for UDAICEMENT\n",
      "Retrying... Attempt 2 for UDAICEMENT\n"
     ]
    },
    {
     "name": "stderr",
     "output_type": "stream",
     "text": [
      "Fetching Annual Reports:   0%|                                                      | 2/1929 [00:17<4:40:44,  8.74s/it]"
     ]
    },
    {
     "name": "stdout",
     "output_type": "stream",
     "text": [
      "Retrying... Attempt 1 for SURAJLTD\n",
      "Retrying... Attempt 2 for SURAJLTD\n"
     ]
    },
    {
     "name": "stderr",
     "output_type": "stream",
     "text": [
      "Fetching Annual Reports:   0%|                                                      | 3/1929 [00:24<4:21:25,  8.14s/it]"
     ]
    },
    {
     "name": "stdout",
     "output_type": "stream",
     "text": [
      "Retrying... Attempt 1 for XTGLOBAL\n",
      "Retrying... Attempt 2 for XTGLOBAL\n"
     ]
    },
    {
     "name": "stderr",
     "output_type": "stream",
     "text": [
      "Fetching Annual Reports:   0%|                                                      | 4/1929 [00:36<5:03:23,  9.46s/it]"
     ]
    },
    {
     "name": "stdout",
     "output_type": "stream",
     "text": [
      "Retrying... Attempt 1 for EMCURE\n",
      "Retrying... Attempt 2 for EMCURE\n"
     ]
    },
    {
     "name": "stderr",
     "output_type": "stream",
     "text": [
      "Fetching Annual Reports:   0%|▏                                                     | 5/1929 [00:46<5:12:19,  9.74s/it]"
     ]
    },
    {
     "name": "stdout",
     "output_type": "stream",
     "text": [
      "Retrying... Attempt 1 for AVANTEL\n",
      "Retrying... Attempt 2 for AVANTEL\n"
     ]
    },
    {
     "name": "stderr",
     "output_type": "stream",
     "text": [
      "Fetching Annual Reports:   0%|▏                                                     | 6/1929 [00:52<4:32:58,  8.52s/it]"
     ]
    },
    {
     "name": "stdout",
     "output_type": "stream",
     "text": [
      "Retrying... Attempt 1 for ALLSEC\n",
      "Retrying... Attempt 2 for ALLSEC\n"
     ]
    },
    {
     "name": "stderr",
     "output_type": "stream",
     "text": [
      "Fetching Annual Reports:   0%|▏                                                     | 7/1929 [01:00<4:29:26,  8.41s/it]"
     ]
    },
    {
     "name": "stdout",
     "output_type": "stream",
     "text": [
      "Retrying... Attempt 1 for MCX\n",
      "Retrying... Attempt 2 for MCX\n"
     ]
    },
    {
     "name": "stderr",
     "output_type": "stream",
     "text": [
      "Fetching Annual Reports:   0%|▏                                                     | 8/1929 [01:09<4:34:25,  8.57s/it]"
     ]
    },
    {
     "name": "stdout",
     "output_type": "stream",
     "text": [
      "Retrying... Attempt 1 for AKUMS\n",
      "Retrying... Attempt 2 for AKUMS\n"
     ]
    },
    {
     "name": "stderr",
     "output_type": "stream",
     "text": [
      "Fetching Annual Reports:   0%|▎                                                     | 9/1929 [01:16<4:17:46,  8.06s/it]"
     ]
    },
    {
     "name": "stdout",
     "output_type": "stream",
     "text": [
      "Retrying... Attempt 1 for PNGJL\n",
      "Retrying... Attempt 2 for PNGJL\n"
     ]
    },
    {
     "name": "stderr",
     "output_type": "stream",
     "text": [
      "Fetching Annual Reports:   1%|▎                                                    | 10/1929 [01:27<4:42:36,  8.84s/it]"
     ]
    },
    {
     "name": "stdout",
     "output_type": "stream",
     "text": [
      "Retrying... Attempt 1 for INTERARCH\n",
      "Retrying... Attempt 2 for INTERARCH\n"
     ]
    },
    {
     "name": "stderr",
     "output_type": "stream",
     "text": [
      "Fetching Annual Reports:   1%|▎                                                    | 11/1929 [01:36<4:52:11,  9.14s/it]"
     ]
    },
    {
     "name": "stdout",
     "output_type": "stream",
     "text": [
      "Retrying... Attempt 1 for EUREKAFORB\n",
      "Retrying... Attempt 2 for EUREKAFORB\n"
     ]
    },
    {
     "name": "stderr",
     "output_type": "stream",
     "text": [
      "Fetching Annual Reports:   1%|▎                                                    | 12/1929 [01:44<4:37:04,  8.67s/it]"
     ]
    },
    {
     "name": "stdout",
     "output_type": "stream",
     "text": [
      "Retrying... Attempt 1 for LIX15\n",
      "Retrying... Attempt 2 for LIX15\n"
     ]
    },
    {
     "name": "stderr",
     "output_type": "stream",
     "text": [
      "Fetching Annual Reports:   1%|▎                                                    | 13/1929 [01:57<5:21:35, 10.07s/it]"
     ]
    },
    {
     "name": "stdout",
     "output_type": "stream",
     "text": [
      "Retrying... Attempt 1 for RPEL\n",
      "Retrying... Attempt 2 for RPEL\n"
     ]
    },
    {
     "name": "stderr",
     "output_type": "stream",
     "text": [
      "Fetching Annual Reports:   1%|▍                                                    | 14/1929 [02:07<5:22:05, 10.09s/it]"
     ]
    },
    {
     "name": "stdout",
     "output_type": "stream",
     "text": [
      "Retrying... Attempt 1 for BAJAJHFL\n",
      "Retrying... Attempt 2 for BAJAJHFL\n"
     ]
    },
    {
     "name": "stderr",
     "output_type": "stream",
     "text": [
      "Fetching Annual Reports:   1%|▍                                                    | 15/1929 [02:16<5:07:35,  9.64s/it]"
     ]
    },
    {
     "name": "stdout",
     "output_type": "stream",
     "text": [
      "Retrying... Attempt 1 for FIRSTCRY\n",
      "Retrying... Attempt 2 for FIRSTCRY\n"
     ]
    },
    {
     "name": "stderr",
     "output_type": "stream",
     "text": [
      "Fetching Annual Reports:   1%|▍                                                    | 16/1929 [02:25<5:02:21,  9.48s/it]"
     ]
    },
    {
     "name": "stdout",
     "output_type": "stream",
     "text": [
      "Retrying... Attempt 1 for ECOSMOBLTY\n",
      "Retrying... Attempt 2 for ECOSMOBLTY\n"
     ]
    },
    {
     "name": "stderr",
     "output_type": "stream",
     "text": [
      "Fetching Annual Reports:   1%|▍                                                    | 17/1929 [02:35<5:01:36,  9.46s/it]"
     ]
    },
    {
     "name": "stdout",
     "output_type": "stream",
     "text": [
      "Retrying... Attempt 1 for IRBINVIT\n",
      "Retrying... Attempt 2 for IRBINVIT\n"
     ]
    },
    {
     "name": "stderr",
     "output_type": "stream",
     "text": [
      "Fetching Annual Reports:   1%|▍                                                    | 18/1929 [02:43<4:56:07,  9.30s/it]"
     ]
    },
    {
     "name": "stdout",
     "output_type": "stream",
     "text": [
      "Retrying... Attempt 1 for INDIGRID\n",
      "Retrying... Attempt 2 for INDIGRID\n"
     ]
    },
    {
     "name": "stderr",
     "output_type": "stream",
     "text": [
      "Fetching Annual Reports:   1%|▌                                                    | 19/1929 [02:56<5:25:32, 10.23s/it]"
     ]
    },
    {
     "name": "stdout",
     "output_type": "stream",
     "text": [
      "Retrying... Attempt 1 for BETA\n",
      "Retrying... Attempt 2 for BETA\n"
     ]
    },
    {
     "name": "stderr",
     "output_type": "stream",
     "text": [
      "Fetching Annual Reports:   1%|▌                                                    | 20/1929 [03:04<5:02:02,  9.49s/it]"
     ]
    },
    {
     "name": "stdout",
     "output_type": "stream",
     "text": [
      "Retrying... Attempt 1 for GALAPREC\n",
      "Retrying... Attempt 2 for GALAPREC\n"
     ]
    },
    {
     "name": "stderr",
     "output_type": "stream",
     "text": [
      "Fetching Annual Reports:   1%|▌                                                    | 21/1929 [03:17<5:39:18, 10.67s/it]"
     ]
    },
    {
     "name": "stdout",
     "output_type": "stream",
     "text": [
      "Retrying... Attempt 1 for EMBASSY\n",
      "Retrying... Attempt 2 for EMBASSY\n"
     ]
    },
    {
     "name": "stderr",
     "output_type": "stream",
     "text": [
      "Fetching Annual Reports:   1%|▌                                                    | 22/1929 [03:26<5:19:24, 10.05s/it]"
     ]
    },
    {
     "name": "stdout",
     "output_type": "stream",
     "text": [
      "Retrying... Attempt 1 for MINDSPACE\n",
      "Retrying... Attempt 2 for MINDSPACE\n"
     ]
    },
    {
     "name": "stderr",
     "output_type": "stream",
     "text": [
      "Fetching Annual Reports:   1%|▋                                                    | 23/1929 [03:38<5:42:32, 10.78s/it]"
     ]
    },
    {
     "name": "stdout",
     "output_type": "stream",
     "text": [
      "Retrying... Attempt 1 for SECMARK\n",
      "Retrying... Attempt 2 for SECMARK\n"
     ]
    },
    {
     "name": "stderr",
     "output_type": "stream",
     "text": [
      "Fetching Annual Reports:   1%|▋                                                    | 24/1929 [03:48<5:29:22, 10.37s/it]"
     ]
    },
    {
     "name": "stdout",
     "output_type": "stream",
     "text": [
      "Retrying... Attempt 1 for BIRET\n",
      "Retrying... Attempt 2 for BIRET\n"
     ]
    },
    {
     "name": "stderr",
     "output_type": "stream",
     "text": [
      "Fetching Annual Reports:   1%|▋                                                    | 25/1929 [03:58<5:34:45, 10.55s/it]"
     ]
    },
    {
     "name": "stdout",
     "output_type": "stream",
     "text": [
      "Retrying... Attempt 1 for PGINVIT\n",
      "Retrying... Attempt 2 for PGINVIT\n"
     ]
    },
    {
     "name": "stderr",
     "output_type": "stream",
     "text": [
      "Fetching Annual Reports:   1%|▋                                                    | 26/1929 [04:11<5:50:19, 11.05s/it]"
     ]
    },
    {
     "name": "stdout",
     "output_type": "stream",
     "text": [
      "Retrying... Attempt 1 for UNIECOM\n",
      "Retrying... Attempt 2 for UNIECOM\n"
     ]
    },
    {
     "name": "stderr",
     "output_type": "stream",
     "text": [
      "Fetching Annual Reports:   1%|▋                                                    | 27/1929 [04:21<5:39:23, 10.71s/it]"
     ]
    },
    {
     "name": "stdout",
     "output_type": "stream",
     "text": [
      "Retrying... Attempt 1 for OLAELEC\n",
      "Retrying... Attempt 2 for OLAELEC\n"
     ]
    },
    {
     "name": "stderr",
     "output_type": "stream",
     "text": [
      "Fetching Annual Reports:   1%|▊                                                    | 28/1929 [04:33<5:58:09, 11.30s/it]"
     ]
    },
    {
     "name": "stdout",
     "output_type": "stream",
     "text": [
      "Retrying... Attempt 1 for NFTMIDSELE\n",
      "Retrying... Attempt 2 for NFTMIDSELE\n"
     ]
    },
    {
     "name": "stderr",
     "output_type": "stream",
     "text": [
      "Fetching Annual Reports:   2%|▊                                                    | 29/1929 [04:43<5:42:59, 10.83s/it]"
     ]
    },
    {
     "name": "stdout",
     "output_type": "stream",
     "text": [
      "Retrying... Attempt 1 for STYLEBAAZA\n",
      "Retrying... Attempt 2 for STYLEBAAZA\n"
     ]
    },
    {
     "name": "stderr",
     "output_type": "stream",
     "text": [
      "Fetching Annual Reports:   2%|▊                                                    | 30/1929 [04:53<5:38:09, 10.68s/it]"
     ]
    },
    {
     "name": "stdout",
     "output_type": "stream",
     "text": [
      "Retrying... Attempt 1 for PREMIERENE\n",
      "Retrying... Attempt 2 for PREMIERENE\n"
     ]
    },
    {
     "name": "stderr",
     "output_type": "stream",
     "text": [
      "Fetching Annual Reports:   2%|▊                                                    | 31/1929 [05:01<5:12:24,  9.88s/it]"
     ]
    },
    {
     "name": "stdout",
     "output_type": "stream",
     "text": [
      "Retrying... Attempt 1 for BHINVIT\n",
      "Retrying... Attempt 2 for BHINVIT\n"
     ]
    },
    {
     "name": "stderr",
     "output_type": "stream",
     "text": [
      "Fetching Annual Reports:   2%|█                                                    | 37/1929 [05:34<2:55:48,  5.58s/it]"
     ]
    },
    {
     "name": "stdout",
     "output_type": "stream",
     "text": [
      "Retrying... Attempt 1 for RAYMONDLSL\n",
      "Retrying... Attempt 2 for RAYMONDLSL\n"
     ]
    },
    {
     "name": "stderr",
     "output_type": "stream",
     "text": [
      "Fetching Annual Reports:   2%|█                                                    | 38/1929 [05:44<3:37:19,  6.90s/it]"
     ]
    },
    {
     "name": "stdout",
     "output_type": "stream",
     "text": [
      "Retrying... Attempt 1 for NXST\n",
      "Retrying... Attempt 2 for NXST\n"
     ]
    },
    {
     "name": "stderr",
     "output_type": "stream",
     "text": [
      "Fetching Annual Reports:   2%|█                                                    | 39/1929 [05:56<4:33:27,  8.68s/it]"
     ]
    },
    {
     "name": "stdout",
     "output_type": "stream",
     "text": [
      "Retrying... Attempt 1 for SANOFICONR\n",
      "Retrying... Attempt 2 for SANOFICONR\n"
     ]
    },
    {
     "name": "stderr",
     "output_type": "stream",
     "text": [
      "Fetching Annual Reports:   2%|█▏                                                   | 41/1929 [06:08<3:49:06,  7.28s/it]"
     ]
    },
    {
     "name": "stdout",
     "output_type": "stream",
     "text": [
      "Retrying... Attempt 1 for SANSTAR\n",
      "Retrying... Attempt 2 for SANSTAR\n"
     ]
    },
    {
     "name": "stderr",
     "output_type": "stream",
     "text": [
      "Fetching Annual Reports:   2%|█▏                                                   | 42/1929 [06:15<3:39:58,  6.99s/it]"
     ]
    },
    {
     "name": "stdout",
     "output_type": "stream",
     "text": [
      "Retrying... Attempt 1 for BALAJEE\n",
      "Retrying... Attempt 2 for BALAJEE\n"
     ]
    },
    {
     "name": "stderr",
     "output_type": "stream",
     "text": [
      "Fetching Annual Reports:   2%|█▏                                                   | 45/1929 [06:27<2:31:25,  4.82s/it]"
     ]
    },
    {
     "name": "stdout",
     "output_type": "stream",
     "text": [
      "Retrying... Attempt 1 for EPACK\n",
      "Retrying... Attempt 2 for EPACK\n"
     ]
    },
    {
     "name": "stderr",
     "output_type": "stream",
     "text": [
      "Fetching Annual Reports:   3%|█▎                                                   | 50/1929 [06:57<2:29:41,  4.78s/it]"
     ]
    },
    {
     "name": "stdout",
     "output_type": "stream",
     "text": [
      "Retrying... Attempt 1 for JNKINDIA\n",
      "Retrying... Attempt 2 for JNKINDIA\n"
     ]
    },
    {
     "name": "stderr",
     "output_type": "stream",
     "text": [
      "Fetching Annual Reports:   3%|█▍                                                   | 53/1929 [07:16<2:49:54,  5.43s/it]"
     ]
    },
    {
     "name": "stdout",
     "output_type": "stream",
     "text": [
      "Retrying... Attempt 1 for SSDL\n",
      "Retrying... Attempt 2 for SSDL\n"
     ]
    },
    {
     "name": "stderr",
     "output_type": "stream",
     "text": [
      "Fetching Annual Reports:   3%|█▌                                                   | 55/1929 [07:28<2:48:53,  5.41s/it]"
     ]
    },
    {
     "name": "stdout",
     "output_type": "stream",
     "text": [
      "Retrying... Attempt 1 for KROSS\n",
      "Retrying... Attempt 2 for KROSS\n"
     ]
    },
    {
     "name": "stderr",
     "output_type": "stream",
     "text": [
      "Fetching Annual Reports:   3%|█▌                                                   | 59/1929 [07:50<2:31:25,  4.86s/it]"
     ]
    },
    {
     "name": "stdout",
     "output_type": "stream",
     "text": [
      "Retrying... Attempt 1 for TATSILV\n",
      "Retrying... Attempt 2 for TATSILV\n"
     ]
    },
    {
     "name": "stderr",
     "output_type": "stream",
     "text": [
      "Fetching Annual Reports:   3%|█▋                                                   | 60/1929 [08:00<3:15:24,  6.27s/it]"
     ]
    },
    {
     "name": "stdout",
     "output_type": "stream",
     "text": [
      "Retrying... Attempt 1 for TATAGOLD\n",
      "Retrying... Attempt 2 for TATAGOLD\n"
     ]
    },
    {
     "name": "stderr",
     "output_type": "stream",
     "text": [
      "Fetching Annual Reports:   3%|█▋                                                   | 61/1929 [08:12<4:12:42,  8.12s/it]"
     ]
    },
    {
     "name": "stdout",
     "output_type": "stream",
     "text": [
      "Retrying... Attempt 1 for DPEL\n",
      "Retrying... Attempt 2 for DPEL\n"
     ]
    },
    {
     "name": "stderr",
     "output_type": "stream",
     "text": [
      "Fetching Annual Reports:   3%|█▋                                                   | 62/1929 [08:22<4:32:23,  8.75s/it]"
     ]
    },
    {
     "name": "stdout",
     "output_type": "stream",
     "text": [
      "Retrying... Attempt 1 for TOLINS\n",
      "Retrying... Attempt 2 for TOLINS\n"
     ]
    },
    {
     "name": "stderr",
     "output_type": "stream",
     "text": [
      "Fetching Annual Reports:   3%|█▋                                                   | 63/1929 [08:32<4:42:17,  9.08s/it]"
     ]
    },
    {
     "name": "stdout",
     "output_type": "stream",
     "text": [
      "Retrying... Attempt 1 for ORIENTTECH\n",
      "Retrying... Attempt 2 for ORIENTTECH\n"
     ]
    },
    {
     "name": "stderr",
     "output_type": "stream",
     "text": [
      "Fetching Annual Reports:   3%|█▊                                                   | 65/1929 [08:48<4:16:20,  8.25s/it]"
     ]
    },
    {
     "name": "stdout",
     "output_type": "stream",
     "text": [
      "Retrying... Attempt 1 for ALFREDHERB\n",
      "Retrying... Attempt 2 for ALFREDHERB\n"
     ]
    },
    {
     "name": "stderr",
     "output_type": "stream",
     "text": [
      "Fetching Annual Reports:   3%|█▊                                                   | 66/1929 [08:57<4:22:06,  8.44s/it]"
     ]
    },
    {
     "name": "stdout",
     "output_type": "stream",
     "text": [
      "Retrying... Attempt 1 for ASOCSTONE\n",
      "Retrying... Attempt 2 for ASOCSTONE\n"
     ]
    },
    {
     "name": "stderr",
     "output_type": "stream",
     "text": [
      "Fetching Annual Reports:   3%|█▊                                                   | 67/1929 [09:07<4:34:00,  8.83s/it]"
     ]
    },
    {
     "name": "stdout",
     "output_type": "stream",
     "text": [
      "Retrying... Attempt 1 for BARODARAYN\n",
      "Retrying... Attempt 2 for BARODARAYN\n"
     ]
    },
    {
     "name": "stderr",
     "output_type": "stream",
     "text": [
      "Fetching Annual Reports:   4%|█▉                                                   | 69/1929 [09:17<3:27:07,  6.68s/it]"
     ]
    },
    {
     "name": "stdout",
     "output_type": "stream",
     "text": [
      "Retrying... Attempt 1 for NOVARTIND\n",
      "Retrying... Attempt 2 for NOVARTIND\n"
     ]
    },
    {
     "name": "stderr",
     "output_type": "stream",
     "text": [
      "Fetching Annual Reports:   4%|█▉                                                   | 70/1929 [09:26<3:51:14,  7.46s/it]"
     ]
    },
    {
     "name": "stdout",
     "output_type": "stream",
     "text": [
      "Retrying... Attempt 1 for SINGER\n",
      "Retrying... Attempt 2 for SINGER\n"
     ]
    },
    {
     "name": "stderr",
     "output_type": "stream",
     "text": [
      "Fetching Annual Reports:   4%|█▉                                                   | 71/1929 [09:38<4:30:23,  8.73s/it]"
     ]
    },
    {
     "name": "stdout",
     "output_type": "stream",
     "text": [
      "Retrying... Attempt 1 for COMPUPN\n",
      "Retrying... Attempt 2 for COMPUPN\n"
     ]
    },
    {
     "name": "stderr",
     "output_type": "stream",
     "text": [
      "Fetching Annual Reports:   4%|█▉                                                   | 72/1929 [09:47<4:38:54,  9.01s/it]"
     ]
    },
    {
     "name": "stdout",
     "output_type": "stream",
     "text": [
      "Retrying... Attempt 1 for GUJTHEMIS\n",
      "Retrying... Attempt 2 for GUJTHEMIS\n"
     ]
    },
    {
     "name": "stderr",
     "output_type": "stream",
     "text": [
      "Fetching Annual Reports:   4%|██                                                   | 73/1929 [09:57<4:46:47,  9.27s/it]"
     ]
    },
    {
     "name": "stdout",
     "output_type": "stream",
     "text": [
      "Retrying... Attempt 1 for JKSYNTHETC\n",
      "Retrying... Attempt 2 for JKSYNTHETC\n"
     ]
    },
    {
     "name": "stderr",
     "output_type": "stream",
     "text": [
      "Fetching Annual Reports:   4%|██                                                   | 74/1929 [10:07<4:53:46,  9.50s/it]"
     ]
    },
    {
     "name": "stdout",
     "output_type": "stream",
     "text": [
      "Retrying... Attempt 1 for INTLCOMBQ\n",
      "Retrying... Attempt 2 for INTLCOMBQ\n"
     ]
    },
    {
     "name": "stderr",
     "output_type": "stream",
     "text": [
      "Fetching Annual Reports:   4%|██                                                   | 75/1929 [10:19<5:12:52, 10.13s/it]"
     ]
    },
    {
     "name": "stdout",
     "output_type": "stream",
     "text": [
      "Retrying... Attempt 1 for JAGAJITIND\n",
      "Retrying... Attempt 2 for JAGAJITIND\n"
     ]
    },
    {
     "name": "stderr",
     "output_type": "stream",
     "text": [
      "Fetching Annual Reports:   4%|██                                                   | 76/1929 [10:27<4:58:33,  9.67s/it]"
     ]
    },
    {
     "name": "stdout",
     "output_type": "stream",
     "text": [
      "Retrying... Attempt 1 for BAKELHYLAM\n",
      "Retrying... Attempt 2 for BAKELHYLAM\n"
     ]
    },
    {
     "name": "stderr",
     "output_type": "stream",
     "text": [
      "Fetching Annual Reports:   4%|██                                                   | 77/1929 [10:36<4:43:41,  9.19s/it]"
     ]
    },
    {
     "name": "stdout",
     "output_type": "stream",
     "text": [
      "Retrying... Attempt 1 for BHAGWOX\n",
      "Retrying... Attempt 2 for BHAGWOX\n"
     ]
    },
    {
     "name": "stderr",
     "output_type": "stream",
     "text": [
      "Fetching Annual Reports:   4%|██▏                                                  | 78/1929 [10:42<4:18:11,  8.37s/it]"
     ]
    },
    {
     "name": "stdout",
     "output_type": "stream",
     "text": [
      "Retrying... Attempt 1 for ELPROINTL\n",
      "Retrying... Attempt 2 for ELPROINTL\n"
     ]
    },
    {
     "name": "stderr",
     "output_type": "stream",
     "text": [
      "Fetching Annual Reports:   4%|██▏                                                  | 79/1929 [10:49<4:02:12,  7.86s/it]"
     ]
    },
    {
     "name": "stdout",
     "output_type": "stream",
     "text": [
      "Retrying... Attempt 1 for FGPIND\n",
      "Retrying... Attempt 2 for FGPIND\n"
     ]
    },
    {
     "name": "stderr",
     "output_type": "stream",
     "text": [
      "Fetching Annual Reports:   4%|██▏                                                  | 80/1929 [10:56<3:57:36,  7.71s/it]"
     ]
    },
    {
     "name": "stdout",
     "output_type": "stream",
     "text": [
      "Retrying... Attempt 1 for GUJPETR\n",
      "Retrying... Attempt 2 for GUJPETR\n"
     ]
    },
    {
     "name": "stderr",
     "output_type": "stream",
     "text": [
      "Fetching Annual Reports:   4%|██▏                                                  | 81/1929 [11:07<4:24:38,  8.59s/it]"
     ]
    },
    {
     "name": "stdout",
     "output_type": "stream",
     "text": [
      "Retrying... Attempt 1 for INDOKEM\n",
      "Retrying... Attempt 2 for INDOKEM\n"
     ]
    },
    {
     "name": "stderr",
     "output_type": "stream",
     "text": [
      "Fetching Annual Reports:   4%|██▎                                                  | 82/1929 [11:16<4:34:01,  8.90s/it]"
     ]
    },
    {
     "name": "stdout",
     "output_type": "stream",
     "text": [
      "Retrying... Attempt 1 for KINETICENG\n",
      "Retrying... Attempt 2 for KINETICENG\n"
     ]
    },
    {
     "name": "stderr",
     "output_type": "stream",
     "text": [
      "Fetching Annual Reports:   4%|██▎                                                  | 83/1929 [11:27<4:51:54,  9.49s/it]"
     ]
    },
    {
     "name": "stdout",
     "output_type": "stream",
     "text": [
      "Retrying... Attempt 1 for APPLEIND\n",
      "Retrying... Attempt 2 for APPLEIND\n"
     ]
    },
    {
     "name": "stderr",
     "output_type": "stream",
     "text": [
      "Fetching Annual Reports:   4%|██▎                                                  | 84/1929 [11:38<5:05:20,  9.93s/it]"
     ]
    },
    {
     "name": "stdout",
     "output_type": "stream",
     "text": [
      "Retrying... Attempt 1 for CAPRIHANS\n",
      "Retrying... Attempt 2 for CAPRIHANS\n"
     ]
    },
    {
     "name": "stderr",
     "output_type": "stream",
     "text": [
      "Fetching Annual Reports:   4%|██▎                                                  | 85/1929 [11:56<6:21:09, 12.40s/it]"
     ]
    },
    {
     "name": "stdout",
     "output_type": "stream",
     "text": [
      "Retrying... Attempt 1 for CHOWGULSTM\n",
      "Retrying... Attempt 2 for CHOWGULSTM\n"
     ]
    },
    {
     "name": "stderr",
     "output_type": "stream",
     "text": [
      "Fetching Annual Reports:   4%|██▎                                                  | 86/1929 [12:05<5:45:29, 11.25s/it]"
     ]
    },
    {
     "name": "stdout",
     "output_type": "stream",
     "text": [
      "Retrying... Attempt 1 for GOODRICKE\n",
      "Retrying... Attempt 2 for GOODRICKE\n"
     ]
    },
    {
     "name": "stderr",
     "output_type": "stream",
     "text": [
      "Fetching Annual Reports:   5%|██▍                                                  | 87/1929 [12:15<5:38:33, 11.03s/it]"
     ]
    },
    {
     "name": "stdout",
     "output_type": "stream",
     "text": [
      "Retrying... Attempt 1 for GOODYEAR\n",
      "Retrying... Attempt 2 for GOODYEAR\n"
     ]
    },
    {
     "name": "stderr",
     "output_type": "stream",
     "text": [
      "Fetching Annual Reports:   5%|██▍                                                  | 88/1929 [12:27<5:44:36, 11.23s/it]"
     ]
    },
    {
     "name": "stdout",
     "output_type": "stream",
     "text": [
      "Retrying... Attempt 1 for HIMTEK\n",
      "Retrying... Attempt 2 for HIMTEK\n"
     ]
    },
    {
     "name": "stderr",
     "output_type": "stream",
     "text": [
      "Fetching Annual Reports:   5%|██▍                                                  | 89/1929 [12:35<5:18:21, 10.38s/it]"
     ]
    },
    {
     "name": "stdout",
     "output_type": "stream",
     "text": [
      "Retrying... Attempt 1 for AMBASARABH\n",
      "Retrying... Attempt 2 for AMBASARABH\n"
     ]
    },
    {
     "name": "stderr",
     "output_type": "stream",
     "text": [
      "Fetching Annual Reports:   5%|██▍                                                  | 90/1929 [12:46<5:15:59, 10.31s/it]"
     ]
    },
    {
     "name": "stdout",
     "output_type": "stream",
     "text": [
      "Retrying... Attempt 1 for ARAVALISEC\n",
      "Retrying... Attempt 2 for ARAVALISEC\n"
     ]
    },
    {
     "name": "stderr",
     "output_type": "stream",
     "text": [
      "Fetching Annual Reports:   5%|██▌                                                  | 91/1929 [12:57<5:28:19, 10.72s/it]"
     ]
    },
    {
     "name": "stdout",
     "output_type": "stream",
     "text": [
      "Retrying... Attempt 1 for NATPEROXID\n",
      "Retrying... Attempt 2 for NATPEROXID\n"
     ]
    },
    {
     "name": "stderr",
     "output_type": "stream",
     "text": [
      "Fetching Annual Reports:   5%|██▌                                                  | 92/1929 [13:07<5:21:51, 10.51s/it]"
     ]
    },
    {
     "name": "stdout",
     "output_type": "stream",
     "text": [
      "Retrying... Attempt 1 for PUNALKALI\n",
      "Retrying... Attempt 2 for PUNALKALI\n"
     ]
    },
    {
     "name": "stderr",
     "output_type": "stream",
     "text": [
      "Fetching Annual Reports:   5%|██▌                                                  | 93/1929 [13:18<5:26:42, 10.68s/it]"
     ]
    },
    {
     "name": "stdout",
     "output_type": "stream",
     "text": [
      "Retrying... Attempt 1 for NATHIND\n",
      "Retrying... Attempt 2 for NATHIND\n"
     ]
    },
    {
     "name": "stderr",
     "output_type": "stream",
     "text": [
      "Fetching Annual Reports:   5%|██▌                                                  | 94/1929 [13:31<5:48:50, 11.41s/it]"
     ]
    },
    {
     "name": "stdout",
     "output_type": "stream",
     "text": [
      "Retrying... Attempt 1 for SHRIDINESH\n",
      "Retrying... Attempt 2 for SHRIDINESH\n"
     ]
    },
    {
     "name": "stderr",
     "output_type": "stream",
     "text": [
      "Fetching Annual Reports:   5%|██▌                                                  | 95/1929 [13:40<5:21:59, 10.53s/it]"
     ]
    },
    {
     "name": "stdout",
     "output_type": "stream",
     "text": [
      "Retrying... Attempt 1 for STANDRDBAT\n",
      "Retrying... Attempt 2 for STANDRDBAT\n"
     ]
    },
    {
     "name": "stderr",
     "output_type": "stream",
     "text": [
      "Fetching Annual Reports:   5%|██▋                                                  | 96/1929 [13:48<4:59:24,  9.80s/it]"
     ]
    },
    {
     "name": "stdout",
     "output_type": "stream",
     "text": [
      "Retrying... Attempt 1 for STOVACQ\n",
      "Retrying... Attempt 2 for STOVACQ\n"
     ]
    },
    {
     "name": "stderr",
     "output_type": "stream",
     "text": [
      "Fetching Annual Reports:   5%|██▋                                                  | 97/1929 [13:59<5:13:35, 10.27s/it]"
     ]
    },
    {
     "name": "stdout",
     "output_type": "stream",
     "text": [
      "Retrying... Attempt 1 for PERMAGNET\n",
      "Retrying... Attempt 2 for PERMAGNET\n"
     ]
    },
    {
     "name": "stderr",
     "output_type": "stream",
     "text": [
      "Fetching Annual Reports:   5%|██▋                                                  | 98/1929 [14:08<5:00:57,  9.86s/it]"
     ]
    },
    {
     "name": "stdout",
     "output_type": "stream",
     "text": [
      "Retrying... Attempt 1 for ANDREWYU\n",
      "Retrying... Attempt 2 for ANDREWYU\n"
     ]
    },
    {
     "name": "stderr",
     "output_type": "stream",
     "text": [
      "Fetching Annual Reports:   5%|██▋                                                  | 99/1929 [14:21<5:29:48, 10.81s/it]"
     ]
    },
    {
     "name": "stdout",
     "output_type": "stream",
     "text": [
      "Retrying... Attempt 1 for MONOT\n",
      "Retrying... Attempt 2 for MONOT\n"
     ]
    },
    {
     "name": "stderr",
     "output_type": "stream",
     "text": [
      "Fetching Annual Reports:   5%|██▋                                                 | 100/1929 [14:32<5:25:59, 10.69s/it]"
     ]
    },
    {
     "name": "stdout",
     "output_type": "stream",
     "text": [
      "Retrying... Attempt 1 for RISHIPACK\n",
      "Retrying... Attempt 2 for RISHIPACK\n"
     ]
    },
    {
     "name": "stderr",
     "output_type": "stream",
     "text": [
      "Fetching Annual Reports:   5%|██▋                                                 | 101/1929 [14:41<5:15:34, 10.36s/it]"
     ]
    },
    {
     "name": "stdout",
     "output_type": "stream",
     "text": [
      "Retrying... Attempt 1 for PANCARBON\n",
      "Retrying... Attempt 2 for PANCARBON\n"
     ]
    },
    {
     "name": "stderr",
     "output_type": "stream",
     "text": [
      "Fetching Annual Reports:   5%|██▋                                                 | 102/1929 [14:50<4:57:58,  9.79s/it]"
     ]
    },
    {
     "name": "stdout",
     "output_type": "stream",
     "text": [
      "Retrying... Attempt 1 for KELENRG\n",
      "Retrying... Attempt 2 for KELENRG\n"
     ]
    },
    {
     "name": "stderr",
     "output_type": "stream",
     "text": [
      "Fetching Annual Reports:   5%|██▊                                                 | 103/1929 [15:02<5:20:39, 10.54s/it]"
     ]
    },
    {
     "name": "stdout",
     "output_type": "stream",
     "text": [
      "Retrying... Attempt 1 for MATHPLATT\n",
      "Retrying... Attempt 2 for MATHPLATT\n"
     ]
    },
    {
     "name": "stderr",
     "output_type": "stream",
     "text": [
      "Fetching Annual Reports:   5%|██▊                                                 | 104/1929 [15:12<5:14:02, 10.32s/it]"
     ]
    },
    {
     "name": "stdout",
     "output_type": "stream",
     "text": [
      "Retrying... Attempt 1 for MLKFOOD\n",
      "Retrying... Attempt 2 for MLKFOOD\n"
     ]
    },
    {
     "name": "stderr",
     "output_type": "stream",
     "text": [
      "Fetching Annual Reports:   5%|██▊                                                 | 105/1929 [15:25<5:37:22, 11.10s/it]"
     ]
    },
    {
     "name": "stdout",
     "output_type": "stream",
     "text": [
      "Retrying... Attempt 1 for SCBL\n",
      "Retrying... Attempt 2 for SCBL\n"
     ]
    },
    {
     "name": "stderr",
     "output_type": "stream",
     "text": [
      "Fetching Annual Reports:   5%|██▊                                                 | 106/1929 [15:33<5:07:54, 10.13s/it]"
     ]
    },
    {
     "name": "stdout",
     "output_type": "stream",
     "text": [
      "Retrying... Attempt 1 for PANYAMCEM\n",
      "Retrying... Attempt 2 for PANYAMCEM\n"
     ]
    },
    {
     "name": "stderr",
     "output_type": "stream",
     "text": [
      "Fetching Annual Reports:   6%|██▉                                                 | 107/1929 [15:44<5:18:58, 10.50s/it]"
     ]
    },
    {
     "name": "stdout",
     "output_type": "stream",
     "text": [
      "Retrying... Attempt 1 for POLYCHEM\n",
      "Retrying... Attempt 2 for POLYCHEM\n"
     ]
    },
    {
     "name": "stderr",
     "output_type": "stream",
     "text": [
      "Fetching Annual Reports:   6%|██▉                                                 | 108/1929 [15:56<5:31:19, 10.92s/it]"
     ]
    },
    {
     "name": "stdout",
     "output_type": "stream",
     "text": [
      "Retrying... Attempt 1 for HAWKINCOOK\n",
      "Retrying... Attempt 2 for HAWKINCOOK\n"
     ]
    },
    {
     "name": "stderr",
     "output_type": "stream",
     "text": [
      "Fetching Annual Reports:   6%|██▉                                                 | 109/1929 [16:04<5:08:11, 10.16s/it]"
     ]
    },
    {
     "name": "stdout",
     "output_type": "stream",
     "text": [
      "Retrying... Attempt 1 for INDAG\n",
      "Retrying... Attempt 2 for INDAG\n"
     ]
    },
    {
     "name": "stderr",
     "output_type": "stream",
     "text": [
      "Fetching Annual Reports:   6%|██▉                                                 | 110/1929 [16:15<5:11:33, 10.28s/it]"
     ]
    },
    {
     "name": "stdout",
     "output_type": "stream",
     "text": [
      "Retrying... Attempt 1 for AMAL\n",
      "Retrying... Attempt 2 for AMAL\n"
     ]
    },
    {
     "name": "stderr",
     "output_type": "stream",
     "text": [
      "Fetching Annual Reports:   6%|██▉                                                 | 111/1929 [16:29<5:48:16, 11.49s/it]"
     ]
    },
    {
     "name": "stdout",
     "output_type": "stream",
     "text": [
      "Retrying... Attempt 1 for SWADPOL\n",
      "Retrying... Attempt 2 for SWADPOL\n"
     ]
    },
    {
     "name": "stderr",
     "output_type": "stream",
     "text": [
      "Fetching Annual Reports:   6%|███                                                 | 113/1929 [16:44<4:43:16,  9.36s/it]"
     ]
    },
    {
     "name": "stdout",
     "output_type": "stream",
     "text": [
      "Retrying... Attempt 1 for TRIVENSHET\n",
      "Retrying... Attempt 2 for TRIVENSHET\n"
     ]
    },
    {
     "name": "stderr",
     "output_type": "stream",
     "text": [
      "Fetching Annual Reports:   6%|███                                                 | 114/1929 [16:55<4:51:38,  9.64s/it]"
     ]
    },
    {
     "name": "stdout",
     "output_type": "stream",
     "text": [
      "Retrying... Attempt 1 for BGWTATO\n",
      "Retrying... Attempt 2 for BGWTATO\n"
     ]
    },
    {
     "name": "stderr",
     "output_type": "stream",
     "text": [
      "Fetching Annual Reports:   6%|███                                                 | 115/1929 [17:04<4:47:37,  9.51s/it]"
     ]
    },
    {
     "name": "stdout",
     "output_type": "stream",
     "text": [
      "Retrying... Attempt 1 for HBLEAS\n",
      "Retrying... Attempt 2 for HBLEAS\n"
     ]
    },
    {
     "name": "stderr",
     "output_type": "stream",
     "text": [
      "Fetching Annual Reports:   6%|███▏                                                | 116/1929 [17:15<4:59:37,  9.92s/it]"
     ]
    },
    {
     "name": "stdout",
     "output_type": "stream",
     "text": [
      "Retrying... Attempt 1 for MULLER\n",
      "Retrying... Attempt 2 for MULLER\n"
     ]
    },
    {
     "name": "stderr",
     "output_type": "stream",
     "text": [
      "Fetching Annual Reports:   6%|███▏                                                | 117/1929 [17:23<4:48:29,  9.55s/it]"
     ]
    },
    {
     "name": "stdout",
     "output_type": "stream",
     "text": [
      "Retrying... Attempt 1 for COCHMAL\n",
      "Retrying... Attempt 2 for COCHMAL\n"
     ]
    },
    {
     "name": "stderr",
     "output_type": "stream",
     "text": [
      "Fetching Annual Reports:   6%|███▏                                                | 118/1929 [17:34<4:58:15,  9.88s/it]"
     ]
    },
    {
     "name": "stdout",
     "output_type": "stream",
     "text": [
      "Retrying... Attempt 1 for GEORGFISCH\n",
      "Retrying... Attempt 2 for GEORGFISCH\n"
     ]
    },
    {
     "name": "stderr",
     "output_type": "stream",
     "text": [
      "Fetching Annual Reports:   6%|███▏                                                | 119/1929 [17:42<4:36:20,  9.16s/it]"
     ]
    },
    {
     "name": "stdout",
     "output_type": "stream",
     "text": [
      "Retrying... Attempt 1 for COSMOFE\n",
      "Retrying... Attempt 2 for COSMOFE\n"
     ]
    },
    {
     "name": "stderr",
     "output_type": "stream",
     "text": [
      "Fetching Annual Reports:   6%|███▏                                                | 120/1929 [17:52<4:48:43,  9.58s/it]"
     ]
    },
    {
     "name": "stdout",
     "output_type": "stream",
     "text": [
      "Retrying... Attempt 1 for TGVSL\n",
      "Retrying... Attempt 2 for TGVSL\n"
     ]
    },
    {
     "name": "stderr",
     "output_type": "stream",
     "text": [
      "Fetching Annual Reports:   6%|███▎                                                | 121/1929 [18:04<5:10:19, 10.30s/it]"
     ]
    },
    {
     "name": "stdout",
     "output_type": "stream",
     "text": [
      "Retrying... Attempt 1 for BHARATAGRI\n",
      "Retrying... Attempt 2 for BHARATAGRI\n"
     ]
    },
    {
     "name": "stderr",
     "output_type": "stream",
     "text": [
      "Fetching Annual Reports:   6%|███▎                                                | 122/1929 [18:13<4:57:13,  9.87s/it]"
     ]
    },
    {
     "name": "stdout",
     "output_type": "stream",
     "text": [
      "Retrying... Attempt 1 for SAKTHIFIN\n",
      "Retrying... Attempt 2 for SAKTHIFIN\n"
     ]
    },
    {
     "name": "stderr",
     "output_type": "stream",
     "text": [
      "Fetching Annual Reports:   6%|███▎                                                | 123/1929 [18:25<5:16:28, 10.51s/it]"
     ]
    },
    {
     "name": "stdout",
     "output_type": "stream",
     "text": [
      "Retrying... Attempt 1 for DLTNCBL\n",
      "Retrying... Attempt 2 for DLTNCBL\n"
     ]
    },
    {
     "name": "stderr",
     "output_type": "stream",
     "text": [
      "Fetching Annual Reports:   6%|███▎                                                | 124/1929 [18:34<4:59:32,  9.96s/it]"
     ]
    },
    {
     "name": "stdout",
     "output_type": "stream",
     "text": [
      "Retrying... Attempt 1 for GARWAMAR\n",
      "Retrying... Attempt 2 for GARWAMAR\n"
     ]
    },
    {
     "name": "stderr",
     "output_type": "stream",
     "text": [
      "Fetching Annual Reports:   6%|███▎                                                | 125/1929 [18:44<5:00:41, 10.00s/it]"
     ]
    },
    {
     "name": "stdout",
     "output_type": "stream",
     "text": [
      "Retrying... Attempt 1 for LAKSELECON\n",
      "Retrying... Attempt 2 for LAKSELECON\n"
     ]
    },
    {
     "name": "stderr",
     "output_type": "stream",
     "text": [
      "Fetching Annual Reports:   7%|███▍                                                | 126/1929 [18:51<4:39:56,  9.32s/it]"
     ]
    },
    {
     "name": "stdout",
     "output_type": "stream",
     "text": [
      "Retrying... Attempt 1 for NATIONSTD\n",
      "Retrying... Attempt 2 for NATIONSTD\n"
     ]
    },
    {
     "name": "stderr",
     "output_type": "stream",
     "text": [
      "Fetching Annual Reports:   7%|███▍                                                | 127/1929 [19:05<5:15:17, 10.50s/it]"
     ]
    },
    {
     "name": "stdout",
     "output_type": "stream",
     "text": [
      "Retrying... Attempt 1 for AUSTENG\n",
      "Retrying... Attempt 2 for AUSTENG\n"
     ]
    },
    {
     "name": "stderr",
     "output_type": "stream",
     "text": [
      "Fetching Annual Reports:   7%|███▍                                                | 128/1929 [19:14<5:07:10, 10.23s/it]"
     ]
    },
    {
     "name": "stdout",
     "output_type": "stream",
     "text": [
      "Retrying... Attempt 1 for PARMCOS-B\n",
      "Retrying... Attempt 2 for PARMCOS-B\n"
     ]
    },
    {
     "name": "stderr",
     "output_type": "stream",
     "text": [
      "Fetching Annual Reports:   7%|███▍                                                | 129/1929 [19:23<4:51:27,  9.72s/it]"
     ]
    },
    {
     "name": "stdout",
     "output_type": "stream",
     "text": [
      "Retrying... Attempt 1 for JINDHOT\n",
      "Retrying... Attempt 2 for JINDHOT\n"
     ]
    },
    {
     "name": "stderr",
     "output_type": "stream",
     "text": [
      "Fetching Annual Reports:   7%|███▌                                                | 130/1929 [19:30<4:26:25,  8.89s/it]"
     ]
    },
    {
     "name": "stdout",
     "output_type": "stream",
     "text": [
      "Retrying... Attempt 1 for ADDIND\n",
      "Retrying... Attempt 2 for ADDIND\n"
     ]
    },
    {
     "name": "stderr",
     "output_type": "stream",
     "text": [
      "Fetching Annual Reports:   7%|███▌                                                | 131/1929 [19:38<4:22:55,  8.77s/it]"
     ]
    },
    {
     "name": "stdout",
     "output_type": "stream",
     "text": [
      "Retrying... Attempt 1 for RAPICUT\n",
      "Retrying... Attempt 2 for RAPICUT\n"
     ]
    },
    {
     "name": "stderr",
     "output_type": "stream",
     "text": [
      "Fetching Annual Reports:   7%|███▌                                                | 132/1929 [19:49<4:41:28,  9.40s/it]"
     ]
    },
    {
     "name": "stdout",
     "output_type": "stream",
     "text": [
      "Retrying... Attempt 1 for GRAUWEIL\n",
      "Retrying... Attempt 2 for GRAUWEIL\n"
     ]
    },
    {
     "name": "stderr",
     "output_type": "stream",
     "text": [
      "Fetching Annual Reports:   7%|███▌                                                | 133/1929 [19:57<4:29:34,  9.01s/it]"
     ]
    },
    {
     "name": "stdout",
     "output_type": "stream",
     "text": [
      "Retrying... Attempt 1 for DUROPLY\n",
      "Retrying... Attempt 2 for DUROPLY\n"
     ]
    },
    {
     "name": "stderr",
     "output_type": "stream",
     "text": [
      "Fetching Annual Reports:   7%|███▌                                                | 134/1929 [20:08<4:48:46,  9.65s/it]"
     ]
    },
    {
     "name": "stdout",
     "output_type": "stream",
     "text": [
      "Retrying... Attempt 1 for REMIEDEL\n",
      "Retrying... Attempt 2 for REMIEDEL\n"
     ]
    },
    {
     "name": "stderr",
     "output_type": "stream",
     "text": [
      "Fetching Annual Reports:   7%|███▋                                                | 135/1929 [20:19<5:01:14, 10.08s/it]"
     ]
    },
    {
     "name": "stdout",
     "output_type": "stream",
     "text": [
      "Retrying... Attempt 1 for RAVALSUGAR\n",
      "Retrying... Attempt 2 for RAVALSUGAR\n"
     ]
    },
    {
     "name": "stderr",
     "output_type": "stream",
     "text": [
      "Fetching Annual Reports:   7%|███▋                                                | 136/1929 [20:31<5:11:39, 10.43s/it]"
     ]
    },
    {
     "name": "stdout",
     "output_type": "stream",
     "text": [
      "Retrying... Attempt 1 for SHRERAJSYN\n",
      "Retrying... Attempt 2 for SHRERAJSYN\n"
     ]
    },
    {
     "name": "stderr",
     "output_type": "stream",
     "text": [
      "Fetching Annual Reports:   7%|███▋                                                | 137/1929 [20:42<5:20:42, 10.74s/it]"
     ]
    },
    {
     "name": "stdout",
     "output_type": "stream",
     "text": [
      "Retrying... Attempt 1 for APLAB\n",
      "Retrying... Attempt 2 for APLAB\n"
     ]
    },
    {
     "name": "stderr",
     "output_type": "stream",
     "text": [
      "Fetching Annual Reports:   7%|███▋                                                | 138/1929 [20:49<4:45:03,  9.55s/it]"
     ]
    },
    {
     "name": "stdout",
     "output_type": "stream",
     "text": [
      "Retrying... Attempt 1 for PBMPOLY\n",
      "Retrying... Attempt 2 for PBMPOLY\n"
     ]
    },
    {
     "name": "stderr",
     "output_type": "stream",
     "text": [
      "Fetching Annual Reports:   7%|███▋                                                | 139/1929 [20:55<4:16:15,  8.59s/it]"
     ]
    },
    {
     "name": "stdout",
     "output_type": "stream",
     "text": [
      "Retrying... Attempt 1 for SPICELEC\n",
      "Retrying... Attempt 2 for SPICELEC\n"
     ]
    },
    {
     "name": "stderr",
     "output_type": "stream",
     "text": [
      "Fetching Annual Reports:   7%|███▊                                                | 140/1929 [21:04<4:19:53,  8.72s/it]"
     ]
    },
    {
     "name": "stdout",
     "output_type": "stream",
     "text": [
      "Retrying... Attempt 1 for FLUIDOM\n",
      "Retrying... Attempt 2 for FLUIDOM\n"
     ]
    },
    {
     "name": "stderr",
     "output_type": "stream",
     "text": [
      "Fetching Annual Reports:   7%|███▊                                                | 141/1929 [21:15<4:35:13,  9.24s/it]"
     ]
    },
    {
     "name": "stdout",
     "output_type": "stream",
     "text": [
      "Retrying... Attempt 1 for MCCHRLS-B\n",
      "Retrying... Attempt 2 for MCCHRLS-B\n"
     ]
    },
    {
     "name": "stderr",
     "output_type": "stream",
     "text": [
      "Fetching Annual Reports:   7%|███▊                                                | 142/1929 [21:26<4:49:05,  9.71s/it]"
     ]
    },
    {
     "name": "stdout",
     "output_type": "stream",
     "text": [
      "Retrying... Attempt 1 for STANROS\n",
      "Retrying... Attempt 2 for STANROS\n"
     ]
    },
    {
     "name": "stderr",
     "output_type": "stream",
     "text": [
      "Fetching Annual Reports:   7%|███▊                                                | 143/1929 [21:36<4:52:57,  9.84s/it]"
     ]
    },
    {
     "name": "stdout",
     "output_type": "stream",
     "text": [
      "Retrying... Attempt 1 for NBFOOT\n",
      "Retrying... Attempt 2 for NBFOOT\n"
     ]
    },
    {
     "name": "stderr",
     "output_type": "stream",
     "text": [
      "Fetching Annual Reports:   7%|███▉                                                | 144/1929 [21:45<4:50:11,  9.75s/it]"
     ]
    },
    {
     "name": "stdout",
     "output_type": "stream",
     "text": [
      "Retrying... Attempt 1 for MACPLASQ\n",
      "Retrying... Attempt 2 for MACPLASQ\n"
     ]
    },
    {
     "name": "stderr",
     "output_type": "stream",
     "text": [
      "Fetching Annual Reports:   8%|███▉                                                | 145/1929 [21:54<4:45:14,  9.59s/it]"
     ]
    },
    {
     "name": "stdout",
     "output_type": "stream",
     "text": [
      "Retrying... Attempt 1 for APTPACK\n",
      "Retrying... Attempt 2 for APTPACK\n"
     ]
    },
    {
     "name": "stderr",
     "output_type": "stream",
     "text": [
      "Fetching Annual Reports:   8%|███▉                                                | 146/1929 [22:07<5:13:39, 10.56s/it]"
     ]
    },
    {
     "name": "stdout",
     "output_type": "stream",
     "text": [
      "Retrying... Attempt 1 for ANSALBU\n",
      "Retrying... Attempt 2 for ANSALBU\n"
     ]
    },
    {
     "name": "stderr",
     "output_type": "stream",
     "text": [
      "Fetching Annual Reports:   8%|███▉                                                | 147/1929 [22:19<5:20:43, 10.80s/it]"
     ]
    },
    {
     "name": "stdout",
     "output_type": "stream",
     "text": [
      "Retrying... Attempt 1 for GSAUTO\n",
      "Retrying... Attempt 2 for GSAUTO\n"
     ]
    },
    {
     "name": "stderr",
     "output_type": "stream",
     "text": [
      "Fetching Annual Reports:   8%|███▉                                                | 148/1929 [22:29<5:19:55, 10.78s/it]"
     ]
    },
    {
     "name": "stdout",
     "output_type": "stream",
     "text": [
      "Retrying... Attempt 1 for WPIL\n",
      "Retrying... Attempt 2 for WPIL\n"
     ]
    },
    {
     "name": "stderr",
     "output_type": "stream",
     "text": [
      "Fetching Annual Reports:   8%|████                                                | 149/1929 [22:42<5:33:42, 11.25s/it]"
     ]
    },
    {
     "name": "stdout",
     "output_type": "stream",
     "text": [
      "Retrying... Attempt 1 for ZFSTEERING\n",
      "Retrying... Attempt 2 for ZFSTEERING\n"
     ]
    },
    {
     "name": "stderr",
     "output_type": "stream",
     "text": [
      "Fetching Annual Reports:   8%|████                                                | 150/1929 [22:52<5:21:21, 10.84s/it]"
     ]
    },
    {
     "name": "stdout",
     "output_type": "stream",
     "text": [
      "Retrying... Attempt 1 for BOMOXY-B1\n",
      "Retrying... Attempt 2 for BOMOXY-B1\n"
     ]
    },
    {
     "name": "stderr",
     "output_type": "stream",
     "text": [
      "Fetching Annual Reports:   8%|████                                                | 151/1929 [23:02<5:20:36, 10.82s/it]"
     ]
    },
    {
     "name": "stdout",
     "output_type": "stream",
     "text": [
      "Retrying... Attempt 1 for INFORTEC\n",
      "Retrying... Attempt 2 for INFORTEC\n"
     ]
    },
    {
     "name": "stderr",
     "output_type": "stream",
     "text": [
      "Fetching Annual Reports:   8%|████                                                | 152/1929 [23:13<5:17:57, 10.74s/it]"
     ]
    },
    {
     "name": "stdout",
     "output_type": "stream",
     "text": [
      "Retrying... Attempt 1 for SIMPLXREA\n",
      "Retrying... Attempt 2 for SIMPLXREA\n"
     ]
    },
    {
     "name": "stderr",
     "output_type": "stream",
     "text": [
      "Fetching Annual Reports:   8%|████                                                | 153/1929 [23:22<5:03:35, 10.26s/it]"
     ]
    },
    {
     "name": "stdout",
     "output_type": "stream",
     "text": [
      "Retrying... Attempt 1 for BNALTD\n",
      "Retrying... Attempt 2 for BNALTD\n"
     ]
    },
    {
     "name": "stderr",
     "output_type": "stream",
     "text": [
      "Fetching Annual Reports:   8%|████▏                                               | 154/1929 [23:32<5:04:52, 10.31s/it]"
     ]
    },
    {
     "name": "stdout",
     "output_type": "stream",
     "text": [
      "Retrying... Attempt 1 for EMAINDIA\n",
      "Retrying... Attempt 2 for EMAINDIA\n"
     ]
    },
    {
     "name": "stderr",
     "output_type": "stream",
     "text": [
      "Fetching Annual Reports:   8%|████▏                                               | 155/1929 [23:44<5:15:56, 10.69s/it]"
     ]
    },
    {
     "name": "stdout",
     "output_type": "stream",
     "text": [
      "Retrying... Attempt 1 for AQFINTECH\n",
      "Retrying... Attempt 2 for AQFINTECH\n"
     ]
    },
    {
     "name": "stderr",
     "output_type": "stream",
     "text": [
      "Fetching Annual Reports:   8%|████▏                                               | 156/1929 [23:53<5:00:01, 10.15s/it]"
     ]
    },
    {
     "name": "stdout",
     "output_type": "stream",
     "text": [
      "Retrying... Attempt 1 for CROPSTER\n",
      "Retrying... Attempt 2 for CROPSTER\n"
     ]
    },
    {
     "name": "stderr",
     "output_type": "stream",
     "text": [
      "Fetching Annual Reports:   8%|████▏                                               | 157/1929 [24:34<9:34:36, 19.46s/it]"
     ]
    },
    {
     "name": "stdout",
     "output_type": "stream",
     "text": [
      "Retrying... Attempt 1 for CONTPTR\n",
      "Retrying... Attempt 2 for CONTPTR\n"
     ]
    },
    {
     "name": "stderr",
     "output_type": "stream",
     "text": [
      "Fetching Annual Reports:   8%|████▎                                               | 158/1929 [24:44<8:12:41, 16.69s/it]"
     ]
    },
    {
     "name": "stdout",
     "output_type": "stream",
     "text": [
      "Retrying... Attempt 1 for SUDAI\n",
      "Retrying... Attempt 2 for SUDAI\n"
     ]
    },
    {
     "name": "stderr",
     "output_type": "stream",
     "text": [
      "Fetching Annual Reports:   8%|████▎                                               | 159/1929 [24:54<7:14:30, 14.73s/it]"
     ]
    },
    {
     "name": "stdout",
     "output_type": "stream",
     "text": [
      "Retrying... Attempt 1 for RIR\n",
      "Retrying... Attempt 2 for RIR\n"
     ]
    },
    {
     "name": "stderr",
     "output_type": "stream",
     "text": [
      "Fetching Annual Reports:   8%|████▎                                               | 160/1929 [25:02<6:10:58, 12.58s/it]"
     ]
    },
    {
     "name": "stdout",
     "output_type": "stream",
     "text": [
      "Retrying... Attempt 1 for PIONRINV\n",
      "Retrying... Attempt 2 for PIONRINV\n"
     ]
    },
    {
     "name": "stderr",
     "output_type": "stream",
     "text": [
      "Fetching Annual Reports:   8%|████▎                                               | 161/1929 [25:09<5:23:44, 10.99s/it]"
     ]
    },
    {
     "name": "stdout",
     "output_type": "stream",
     "text": [
      "Retrying... Attempt 1 for WSFX\n",
      "Retrying... Attempt 2 for WSFX\n"
     ]
    },
    {
     "name": "stderr",
     "output_type": "stream",
     "text": [
      "Fetching Annual Reports:   8%|████▎                                               | 162/1929 [25:17<4:57:03, 10.09s/it]"
     ]
    },
    {
     "name": "stdout",
     "output_type": "stream",
     "text": [
      "Retrying... Attempt 1 for FRONTCAP\n",
      "Retrying... Attempt 2 for FRONTCAP\n"
     ]
    },
    {
     "name": "stderr",
     "output_type": "stream",
     "text": [
      "Fetching Annual Reports:   8%|████▍                                               | 163/1929 [25:27<4:50:06,  9.86s/it]"
     ]
    },
    {
     "name": "stdout",
     "output_type": "stream",
     "text": [
      "Retrying... Attempt 1 for PASUPATSPG\n",
      "Retrying... Attempt 2 for PASUPATSPG\n"
     ]
    },
    {
     "name": "stderr",
     "output_type": "stream",
     "text": [
      "Fetching Annual Reports:   9%|████▍                                               | 164/1929 [25:36<4:47:54,  9.79s/it]"
     ]
    },
    {
     "name": "stdout",
     "output_type": "stream",
     "text": [
      "Retrying... Attempt 1 for SMIFS\n",
      "Retrying... Attempt 2 for SMIFS\n"
     ]
    },
    {
     "name": "stderr",
     "output_type": "stream",
     "text": [
      "Fetching Annual Reports:   9%|████▍                                               | 165/1929 [25:44<4:28:15,  9.12s/it]"
     ]
    },
    {
     "name": "stdout",
     "output_type": "stream",
     "text": [
      "Retrying... Attempt 1 for GOURMET\n",
      "Retrying... Attempt 2 for GOURMET\n"
     ]
    },
    {
     "name": "stderr",
     "output_type": "stream",
     "text": [
      "Fetching Annual Reports:   9%|████▍                                               | 166/1929 [25:50<4:00:01,  8.17s/it]"
     ]
    },
    {
     "name": "stdout",
     "output_type": "stream",
     "text": [
      "Retrying... Attempt 1 for CONTCHM\n",
      "Retrying... Attempt 2 for CONTCHM\n"
     ]
    },
    {
     "name": "stderr",
     "output_type": "stream",
     "text": [
      "Fetching Annual Reports:   9%|████▌                                               | 167/1929 [26:00<4:19:58,  8.85s/it]"
     ]
    },
    {
     "name": "stdout",
     "output_type": "stream",
     "text": [
      "Retrying... Attempt 1 for GGDPROP\n",
      "Retrying... Attempt 2 for GGDPROP\n"
     ]
    },
    {
     "name": "stderr",
     "output_type": "stream",
     "text": [
      "Fetching Annual Reports:   9%|████▌                                               | 168/1929 [26:10<4:30:57,  9.23s/it]"
     ]
    },
    {
     "name": "stdout",
     "output_type": "stream",
     "text": [
      "Retrying... Attempt 1 for MODINATUR\n",
      "Retrying... Attempt 2 for MODINATUR\n"
     ]
    },
    {
     "name": "stderr",
     "output_type": "stream",
     "text": [
      "Fetching Annual Reports:   9%|████▌                                               | 169/1929 [26:22<4:56:03, 10.09s/it]"
     ]
    },
    {
     "name": "stdout",
     "output_type": "stream",
     "text": [
      "Retrying... Attempt 1 for GOLKONDA\n",
      "Retrying... Attempt 2 for GOLKONDA\n"
     ]
    },
    {
     "name": "stderr",
     "output_type": "stream",
     "text": [
      "Fetching Annual Reports:   9%|████▌                                               | 170/1929 [26:34<5:09:07, 10.54s/it]"
     ]
    },
    {
     "name": "stdout",
     "output_type": "stream",
     "text": [
      "Retrying... Attempt 1 for DSINVEST\n",
      "Retrying... Attempt 2 for DSINVEST\n"
     ]
    },
    {
     "name": "stderr",
     "output_type": "stream",
     "text": [
      "Fetching Annual Reports:   9%|████▌                                               | 171/1929 [26:43<4:52:32,  9.98s/it]"
     ]
    },
    {
     "name": "stdout",
     "output_type": "stream",
     "text": [
      "Retrying... Attempt 1 for VJTFEDU\n",
      "Retrying... Attempt 2 for VJTFEDU\n"
     ]
    },
    {
     "name": "stderr",
     "output_type": "stream",
     "text": [
      "Fetching Annual Reports:   9%|████▋                                               | 172/1929 [26:55<5:09:55, 10.58s/it]"
     ]
    },
    {
     "name": "stdout",
     "output_type": "stream",
     "text": [
      "Retrying... Attempt 1 for PARNAXLAB\n",
      "Retrying... Attempt 2 for PARNAXLAB\n"
     ]
    },
    {
     "name": "stderr",
     "output_type": "stream",
     "text": [
      "Fetching Annual Reports:   9%|████▋                                               | 173/1929 [27:01<4:35:15,  9.41s/it]"
     ]
    },
    {
     "name": "stdout",
     "output_type": "stream",
     "text": [
      "Retrying... Attempt 1 for KESARPE\n",
      "Retrying... Attempt 2 for KESARPE\n"
     ]
    },
    {
     "name": "stderr",
     "output_type": "stream",
     "text": [
      "Fetching Annual Reports:   9%|████▋                                               | 174/1929 [27:10<4:25:21,  9.07s/it]"
     ]
    },
    {
     "name": "stdout",
     "output_type": "stream",
     "text": [
      "Retrying... Attempt 1 for DHANCOT\n",
      "Retrying... Attempt 2 for DHANCOT\n"
     ]
    },
    {
     "name": "stderr",
     "output_type": "stream",
     "text": [
      "Fetching Annual Reports:   9%|████▋                                               | 175/1929 [27:22<4:52:23, 10.00s/it]"
     ]
    },
    {
     "name": "stdout",
     "output_type": "stream",
     "text": [
      "Retrying... Attempt 1 for TPINDIA\n",
      "Retrying... Attempt 2 for TPINDIA\n"
     ]
    },
    {
     "name": "stderr",
     "output_type": "stream",
     "text": [
      "Fetching Annual Reports:   9%|████▋                                               | 176/1929 [27:32<4:57:59, 10.20s/it]"
     ]
    },
    {
     "name": "stdout",
     "output_type": "stream",
     "text": [
      "Retrying... Attempt 1 for BOMBWIR\n",
      "Retrying... Attempt 2 for BOMBWIR\n"
     ]
    },
    {
     "name": "stderr",
     "output_type": "stream",
     "text": [
      "Fetching Annual Reports:   9%|████▊                                               | 177/1929 [27:43<5:02:42, 10.37s/it]"
     ]
    },
    {
     "name": "stdout",
     "output_type": "stream",
     "text": [
      "Retrying... Attempt 1 for JETKINGQ\n",
      "Retrying... Attempt 2 for JETKINGQ\n"
     ]
    },
    {
     "name": "stderr",
     "output_type": "stream",
     "text": [
      "Fetching Annual Reports:   9%|████▊                                               | 178/1929 [27:52<4:52:27, 10.02s/it]"
     ]
    },
    {
     "name": "stdout",
     "output_type": "stream",
     "text": [
      "Retrying... Attempt 1 for MARKOBENZ\n",
      "Retrying... Attempt 2 for MARKOBENZ\n"
     ]
    },
    {
     "name": "stderr",
     "output_type": "stream",
     "text": [
      "Fetching Annual Reports:   9%|████▊                                               | 179/1929 [28:04<5:07:43, 10.55s/it]"
     ]
    },
    {
     "name": "stdout",
     "output_type": "stream",
     "text": [
      "Retrying... Attempt 1 for GUJCMDS\n",
      "Retrying... Attempt 2 for GUJCMDS\n"
     ]
    },
    {
     "name": "stderr",
     "output_type": "stream",
     "text": [
      "Fetching Annual Reports:   9%|████▊                                               | 180/1929 [28:13<4:47:44,  9.87s/it]"
     ]
    },
    {
     "name": "stdout",
     "output_type": "stream",
     "text": [
      "Retrying... Attempt 1 for MIVENMACH\n",
      "Retrying... Attempt 2 for MIVENMACH\n"
     ]
    },
    {
     "name": "stderr",
     "output_type": "stream",
     "text": [
      "Fetching Annual Reports:   9%|████▉                                               | 181/1929 [28:19<4:22:09,  9.00s/it]"
     ]
    },
    {
     "name": "stdout",
     "output_type": "stream",
     "text": [
      "Retrying... Attempt 1 for SHVSUIT\n",
      "Retrying... Attempt 2 for SHVSUIT\n"
     ]
    },
    {
     "name": "stderr",
     "output_type": "stream",
     "text": [
      "Fetching Annual Reports:   9%|████▉                                               | 182/1929 [28:29<4:29:36,  9.26s/it]"
     ]
    },
    {
     "name": "stdout",
     "output_type": "stream",
     "text": [
      "Retrying... Attempt 1 for SRMENERGY\n",
      "Retrying... Attempt 2 for SRMENERGY\n"
     ]
    },
    {
     "name": "stderr",
     "output_type": "stream",
     "text": [
      "Fetching Annual Reports:   9%|████▉                                               | 183/1929 [28:38<4:21:43,  8.99s/it]"
     ]
    },
    {
     "name": "stdout",
     "output_type": "stream",
     "text": [
      "Retrying... Attempt 1 for HARLETH\n",
      "Retrying... Attempt 2 for HARLETH\n"
     ]
    },
    {
     "name": "stderr",
     "output_type": "stream",
     "text": [
      "Fetching Annual Reports:  10%|████▉                                               | 184/1929 [28:49<4:37:41,  9.55s/it]"
     ]
    },
    {
     "name": "stdout",
     "output_type": "stream",
     "text": [
      "Retrying... Attempt 1 for RACLGEAR\n",
      "Retrying... Attempt 2 for RACLGEAR\n"
     ]
    },
    {
     "name": "stderr",
     "output_type": "stream",
     "text": [
      "Fetching Annual Reports:  10%|████▉                                               | 185/1929 [28:58<4:39:05,  9.60s/it]"
     ]
    },
    {
     "name": "stdout",
     "output_type": "stream",
     "text": [
      "Retrying... Attempt 1 for JOSTS\n",
      "Retrying... Attempt 2 for JOSTS\n"
     ]
    },
    {
     "name": "stderr",
     "output_type": "stream",
     "text": [
      "Fetching Annual Reports:  10%|█████                                               | 186/1929 [29:06<4:20:23,  8.96s/it]"
     ]
    },
    {
     "name": "stdout",
     "output_type": "stream",
     "text": [
      "Retrying... Attempt 1 for MPAGI\n",
      "Retrying... Attempt 2 for MPAGI\n"
     ]
    },
    {
     "name": "stderr",
     "output_type": "stream",
     "text": [
      "Fetching Annual Reports:  10%|█████                                               | 187/1929 [29:19<5:01:42, 10.39s/it]"
     ]
    },
    {
     "name": "stdout",
     "output_type": "stream",
     "text": [
      "Retrying... Attempt 1 for PCCOSMA\n",
      "Retrying... Attempt 2 for PCCOSMA\n"
     ]
    },
    {
     "name": "stderr",
     "output_type": "stream",
     "text": [
      "Fetching Annual Reports:  10%|█████                                               | 188/1929 [29:29<4:49:30,  9.98s/it]"
     ]
    },
    {
     "name": "stdout",
     "output_type": "stream",
     "text": [
      "Retrying... Attempt 1 for VAPIENTER\n",
      "Retrying... Attempt 2 for VAPIENTER\n"
     ]
    },
    {
     "name": "stderr",
     "output_type": "stream",
     "text": [
      "Fetching Annual Reports:  10%|█████                                               | 189/1929 [29:38<4:46:16,  9.87s/it]"
     ]
    },
    {
     "name": "stdout",
     "output_type": "stream",
     "text": [
      "Retrying... Attempt 1 for SHALPRO\n",
      "Retrying... Attempt 2 for SHALPRO\n"
     ]
    },
    {
     "name": "stderr",
     "output_type": "stream",
     "text": [
      "Fetching Annual Reports:  10%|█████                                               | 190/1929 [29:52<5:20:29, 11.06s/it]"
     ]
    },
    {
     "name": "stdout",
     "output_type": "stream",
     "text": [
      "Retrying... Attempt 1 for YAMNINV\n",
      "Retrying... Attempt 2 for YAMNINV\n"
     ]
    },
    {
     "name": "stderr",
     "output_type": "stream",
     "text": [
      "Fetching Annual Reports:  10%|█████▏                                              | 191/1929 [30:02<5:11:29, 10.75s/it]"
     ]
    },
    {
     "name": "stdout",
     "output_type": "stream",
     "text": [
      "Retrying... Attempt 1 for CRAVATEX\n",
      "Retrying... Attempt 2 for CRAVATEX\n"
     ]
    },
    {
     "name": "stderr",
     "output_type": "stream",
     "text": [
      "Fetching Annual Reports:  10%|█████▏                                              | 192/1929 [30:11<4:57:53, 10.29s/it]"
     ]
    },
    {
     "name": "stdout",
     "output_type": "stream",
     "text": [
      "Retrying... Attempt 1 for ROLCOEN\n",
      "Retrying... Attempt 2 for ROLCOEN\n"
     ]
    },
    {
     "name": "stderr",
     "output_type": "stream",
     "text": [
      "Fetching Annual Reports:  10%|█████▏                                              | 193/1929 [30:20<4:48:24,  9.97s/it]"
     ]
    },
    {
     "name": "stdout",
     "output_type": "stream",
     "text": [
      "Retrying... Attempt 1 for RITESHIN\n",
      "Retrying... Attempt 2 for RITESHIN\n"
     ]
    },
    {
     "name": "stderr",
     "output_type": "stream",
     "text": [
      "Fetching Annual Reports:  10%|█████▏                                              | 194/1929 [30:30<4:46:09,  9.90s/it]"
     ]
    },
    {
     "name": "stdout",
     "output_type": "stream",
     "text": [
      "Retrying... Attempt 1 for RAMAVISION\n",
      "Retrying... Attempt 2 for RAMAVISION\n"
     ]
    },
    {
     "name": "stderr",
     "output_type": "stream",
     "text": [
      "Fetching Annual Reports:  10%|█████▎                                              | 195/1929 [30:39<4:33:53,  9.48s/it]"
     ]
    },
    {
     "name": "stdout",
     "output_type": "stream",
     "text": [
      "Retrying... Attempt 1 for FINKURVE\n",
      "Retrying... Attempt 2 for FINKURVE\n"
     ]
    },
    {
     "name": "stderr",
     "output_type": "stream",
     "text": [
      "Fetching Annual Reports:  10%|█████▎                                              | 196/1929 [30:49<4:43:53,  9.83s/it]"
     ]
    },
    {
     "name": "stdout",
     "output_type": "stream",
     "text": [
      "Retrying... Attempt 1 for TCMLMTD\n",
      "Retrying... Attempt 2 for TCMLMTD\n"
     ]
    },
    {
     "name": "stderr",
     "output_type": "stream",
     "text": [
      "Fetching Annual Reports:  10%|█████▎                                              | 197/1929 [30:58<4:36:38,  9.58s/it]"
     ]
    },
    {
     "name": "stdout",
     "output_type": "stream",
     "text": [
      "Retrying... Attempt 1 for SAYAJIIND\n",
      "Retrying... Attempt 2 for SAYAJIIND\n"
     ]
    },
    {
     "name": "stderr",
     "output_type": "stream",
     "text": [
      "Fetching Annual Reports:  10%|█████▎                                              | 198/1929 [31:06<4:16:27,  8.89s/it]"
     ]
    },
    {
     "name": "stdout",
     "output_type": "stream",
     "text": [
      "Retrying... Attempt 1 for TRANSFREIT\n",
      "Retrying... Attempt 2 for TRANSFREIT\n"
     ]
    },
    {
     "name": "stderr",
     "output_type": "stream",
     "text": [
      "Fetching Annual Reports:  10%|█████▎                                              | 199/1929 [31:17<4:37:44,  9.63s/it]"
     ]
    },
    {
     "name": "stdout",
     "output_type": "stream",
     "text": [
      "Retrying... Attempt 1 for SUNRAJDI\n",
      "Retrying... Attempt 2 for SUNRAJDI\n"
     ]
    },
    {
     "name": "stderr",
     "output_type": "stream",
     "text": [
      "Fetching Annual Reports:  10%|█████▍                                              | 200/1929 [31:24<4:11:58,  8.74s/it]"
     ]
    },
    {
     "name": "stdout",
     "output_type": "stream",
     "text": [
      "Retrying... Attempt 1 for INDBNK\n",
      "Retrying... Attempt 2 for INDBNK\n"
     ]
    },
    {
     "name": "stderr",
     "output_type": "stream",
     "text": [
      "Fetching Annual Reports:  10%|█████▍                                              | 201/1929 [31:36<4:44:58,  9.89s/it]"
     ]
    },
    {
     "name": "stdout",
     "output_type": "stream",
     "text": [
      "Retrying... Attempt 1 for JAIMATAG\n",
      "Retrying... Attempt 2 for JAIMATAG\n"
     ]
    },
    {
     "name": "stderr",
     "output_type": "stream",
     "text": [
      "Fetching Annual Reports:  10%|█████▍                                              | 202/1929 [31:47<4:48:42, 10.03s/it]"
     ]
    },
    {
     "name": "stdout",
     "output_type": "stream",
     "text": [
      "Retrying... Attempt 1 for PACIFICIND\n",
      "Retrying... Attempt 2 for PACIFICIND\n"
     ]
    },
    {
     "name": "stderr",
     "output_type": "stream",
     "text": [
      "Fetching Annual Reports:  11%|█████▍                                              | 203/1929 [31:57<4:51:12, 10.12s/it]"
     ]
    },
    {
     "name": "stdout",
     "output_type": "stream",
     "text": [
      "Retrying... Attempt 1 for UNIOFFICE\n",
      "Retrying... Attempt 2 for UNIOFFICE\n"
     ]
    },
    {
     "name": "stderr",
     "output_type": "stream",
     "text": [
      "Fetching Annual Reports:  11%|█████▍                                              | 204/1929 [32:08<4:59:21, 10.41s/it]"
     ]
    },
    {
     "name": "stdout",
     "output_type": "stream",
     "text": [
      "Retrying... Attempt 1 for GUJTLRM\n",
      "Retrying... Attempt 2 for GUJTLRM\n"
     ]
    },
    {
     "name": "stderr",
     "output_type": "stream",
     "text": [
      "Fetching Annual Reports:  11%|█████▌                                              | 205/1929 [32:17<4:44:13,  9.89s/it]"
     ]
    },
    {
     "name": "stdout",
     "output_type": "stream",
     "text": [
      "Retrying... Attempt 1 for RESONANCE\n",
      "Retrying... Attempt 2 for RESONANCE\n"
     ]
    },
    {
     "name": "stderr",
     "output_type": "stream",
     "text": [
      "Fetching Annual Reports:  11%|█████▌                                              | 206/1929 [32:29<5:01:10, 10.49s/it]"
     ]
    },
    {
     "name": "stdout",
     "output_type": "stream",
     "text": [
      "Retrying... Attempt 1 for INDTONER\n",
      "Retrying... Attempt 2 for INDTONER\n"
     ]
    },
    {
     "name": "stderr",
     "output_type": "stream",
     "text": [
      "Fetching Annual Reports:  11%|█████▌                                              | 207/1929 [32:41<5:20:15, 11.16s/it]"
     ]
    },
    {
     "name": "stdout",
     "output_type": "stream",
     "text": [
      "Retrying... Attempt 1 for PRAGBOSIMI\n",
      "Retrying... Attempt 2 for PRAGBOSIMI\n"
     ]
    },
    {
     "name": "stderr",
     "output_type": "stream",
     "text": [
      "Fetching Annual Reports:  11%|█████▌                                              | 208/1929 [32:52<5:19:51, 11.15s/it]"
     ]
    },
    {
     "name": "stdout",
     "output_type": "stream",
     "text": [
      "Retrying... Attempt 1 for IPRINGLTD\n",
      "Retrying... Attempt 2 for IPRINGLTD\n"
     ]
    },
    {
     "name": "stderr",
     "output_type": "stream",
     "text": [
      "Fetching Annual Reports:  11%|█████▋                                              | 209/1929 [32:58<4:33:58,  9.56s/it]"
     ]
    },
    {
     "name": "stdout",
     "output_type": "stream",
     "text": [
      "Retrying... Attempt 1 for SIMMOND\n",
      "Retrying... Attempt 2 for SIMMOND\n"
     ]
    },
    {
     "name": "stderr",
     "output_type": "stream",
     "text": [
      "Fetching Annual Reports:  11%|█████▋                                              | 210/1929 [33:04<4:01:50,  8.44s/it]"
     ]
    },
    {
     "name": "stdout",
     "output_type": "stream",
     "text": [
      "Retrying... Attempt 1 for YASHINNO\n",
      "Retrying... Attempt 2 for YASHINNO\n"
     ]
    },
    {
     "name": "stderr",
     "output_type": "stream",
     "text": [
      "Fetching Annual Reports:  11%|█████▋                                              | 211/1929 [33:11<3:51:39,  8.09s/it]"
     ]
    },
    {
     "name": "stdout",
     "output_type": "stream",
     "text": [
      "Retrying... Attempt 1 for FLEXFO\n",
      "Retrying... Attempt 2 for FLEXFO\n"
     ]
    },
    {
     "name": "stderr",
     "output_type": "stream",
     "text": [
      "Fetching Annual Reports:  11%|█████▋                                              | 212/1929 [33:26<4:51:17, 10.18s/it]"
     ]
    },
    {
     "name": "stdout",
     "output_type": "stream",
     "text": [
      "Retrying... Attempt 1 for KFBL\n",
      "Retrying... Attempt 2 for KFBL\n"
     ]
    },
    {
     "name": "stderr",
     "output_type": "stream",
     "text": [
      "Fetching Annual Reports:  11%|█████▋                                              | 213/1929 [33:39<5:12:44, 10.93s/it]"
     ]
    },
    {
     "name": "stdout",
     "output_type": "stream",
     "text": [
      "Retrying... Attempt 1 for OLYOI\n",
      "Retrying... Attempt 2 for OLYOI\n"
     ]
    },
    {
     "name": "stderr",
     "output_type": "stream",
     "text": [
      "Fetching Annual Reports:  11%|█████▊                                              | 214/1929 [33:49<5:06:35, 10.73s/it]"
     ]
    },
    {
     "name": "stdout",
     "output_type": "stream",
     "text": [
      "Retrying... Attempt 1 for WESTERNBIO\n",
      "Retrying... Attempt 2 for WESTERNBIO\n"
     ]
    },
    {
     "name": "stderr",
     "output_type": "stream",
     "text": [
      "Fetching Annual Reports:  11%|█████▊                                              | 215/1929 [34:00<5:04:00, 10.64s/it]"
     ]
    },
    {
     "name": "stdout",
     "output_type": "stream",
     "text": [
      "Retrying... Attempt 1 for BRADYM\n",
      "Retrying... Attempt 2 for BRADYM\n"
     ]
    },
    {
     "name": "stderr",
     "output_type": "stream",
     "text": [
      "Fetching Annual Reports:  11%|█████▊                                              | 216/1929 [34:10<4:59:08, 10.48s/it]"
     ]
    },
    {
     "name": "stdout",
     "output_type": "stream",
     "text": [
      "Retrying... Attempt 1 for ANUHPHR\n",
      "Retrying... Attempt 2 for ANUHPHR\n"
     ]
    },
    {
     "name": "stderr",
     "output_type": "stream",
     "text": [
      "Fetching Annual Reports:  11%|█████▊                                              | 217/1929 [34:21<5:00:47, 10.54s/it]"
     ]
    },
    {
     "name": "stdout",
     "output_type": "stream",
     "text": [
      "Retrying... Attempt 1 for CHEMOPH\n",
      "Retrying... Attempt 2 for CHEMOPH\n"
     ]
    },
    {
     "name": "stderr",
     "output_type": "stream",
     "text": [
      "Fetching Annual Reports:  11%|█████▉                                              | 218/1929 [34:30<4:49:50, 10.16s/it]"
     ]
    },
    {
     "name": "stdout",
     "output_type": "stream",
     "text": [
      "Retrying... Attempt 1 for MIDINDIA\n",
      "Retrying... Attempt 2 for MIDINDIA\n"
     ]
    },
    {
     "name": "stderr",
     "output_type": "stream",
     "text": [
      "Fetching Annual Reports:  11%|█████▉                                              | 219/1929 [34:41<4:58:31, 10.47s/it]"
     ]
    },
    {
     "name": "stdout",
     "output_type": "stream",
     "text": [
      "Retrying... Attempt 1 for GLOBUSCON\n",
      "Retrying... Attempt 2 for GLOBUSCON\n"
     ]
    },
    {
     "name": "stderr",
     "output_type": "stream",
     "text": [
      "Fetching Annual Reports:  11%|█████▉                                              | 220/1929 [34:50<4:49:20, 10.16s/it]"
     ]
    },
    {
     "name": "stdout",
     "output_type": "stream",
     "text": [
      "Retrying... Attempt 1 for SIELFNS\n",
      "Retrying... Attempt 2 for SIELFNS\n"
     ]
    },
    {
     "name": "stderr",
     "output_type": "stream",
     "text": [
      "Fetching Annual Reports:  11%|█████▉                                              | 221/1929 [35:02<4:57:45, 10.46s/it]"
     ]
    },
    {
     "name": "stdout",
     "output_type": "stream",
     "text": [
      "Retrying... Attempt 1 for ADVLIFE\n",
      "Retrying... Attempt 2 for ADVLIFE\n"
     ]
    },
    {
     "name": "stderr",
     "output_type": "stream",
     "text": [
      "Fetching Annual Reports:  12%|█████▉                                              | 222/1929 [35:11<4:46:58, 10.09s/it]"
     ]
    },
    {
     "name": "stdout",
     "output_type": "stream",
     "text": [
      "Retrying... Attempt 1 for HINDMILL\n",
      "Retrying... Attempt 2 for HINDMILL\n"
     ]
    },
    {
     "name": "stderr",
     "output_type": "stream",
     "text": [
      "Fetching Annual Reports:  12%|██████                                              | 223/1929 [35:20<4:35:52,  9.70s/it]"
     ]
    },
    {
     "name": "stdout",
     "output_type": "stream",
     "text": [
      "Retrying... Attempt 1 for RALEGRA\n",
      "Retrying... Attempt 2 for RALEGRA\n"
     ]
    },
    {
     "name": "stderr",
     "output_type": "stream",
     "text": [
      "Fetching Annual Reports:  12%|██████                                              | 224/1929 [35:28<4:21:05,  9.19s/it]"
     ]
    },
    {
     "name": "stdout",
     "output_type": "stream",
     "text": [
      "Retrying... Attempt 1 for MAHALXSE\n",
      "Retrying... Attempt 2 for MAHALXSE\n"
     ]
    },
    {
     "name": "stderr",
     "output_type": "stream",
     "text": [
      "Fetching Annual Reports:  12%|██████                                              | 225/1929 [35:34<3:58:29,  8.40s/it]"
     ]
    },
    {
     "name": "stdout",
     "output_type": "stream",
     "text": [
      "Retrying... Attempt 1 for SUPTANERY\n",
      "Retrying... Attempt 2 for SUPTANERY\n"
     ]
    },
    {
     "name": "stderr",
     "output_type": "stream",
     "text": [
      "Fetching Annual Reports:  12%|██████                                              | 226/1929 [35:46<4:26:14,  9.38s/it]"
     ]
    },
    {
     "name": "stdout",
     "output_type": "stream",
     "text": [
      "Retrying... Attempt 1 for SPENTA\n",
      "Retrying... Attempt 2 for SPENTA\n"
     ]
    },
    {
     "name": "stderr",
     "output_type": "stream",
     "text": [
      "Fetching Annual Reports:  12%|██████                                              | 227/1929 [35:54<4:18:36,  9.12s/it]"
     ]
    },
    {
     "name": "stdout",
     "output_type": "stream",
     "text": [
      "Retrying... Attempt 1 for MILTONPLAS\n",
      "Retrying... Attempt 2 for MILTONPLAS\n"
     ]
    },
    {
     "name": "stderr",
     "output_type": "stream",
     "text": [
      "Fetching Annual Reports:  12%|██████▏                                             | 228/1929 [36:05<4:29:44,  9.51s/it]"
     ]
    },
    {
     "name": "stdout",
     "output_type": "stream",
     "text": [
      "Retrying... Attempt 1 for TUTICORALK\n",
      "Retrying... Attempt 2 for TUTICORALK\n"
     ]
    },
    {
     "name": "stderr",
     "output_type": "stream",
     "text": [
      "Fetching Annual Reports:  12%|██████▏                                             | 230/1929 [36:23<4:17:39,  9.10s/it]"
     ]
    },
    {
     "name": "stdout",
     "output_type": "stream",
     "text": [
      "Retrying... Attempt 1 for MAJESAUTO\n",
      "Retrying... Attempt 2 for MAJESAUTO\n"
     ]
    },
    {
     "name": "stderr",
     "output_type": "stream",
     "text": [
      "Fetching Annual Reports:  12%|██████▏                                             | 231/1929 [36:33<4:18:27,  9.13s/it]"
     ]
    },
    {
     "name": "stdout",
     "output_type": "stream",
     "text": [
      "Retrying... Attempt 1 for ISTLTD\n",
      "Retrying... Attempt 2 for ISTLTD\n"
     ]
    },
    {
     "name": "stderr",
     "output_type": "stream",
     "text": [
      "Fetching Annual Reports:  12%|██████▎                                             | 232/1929 [36:40<4:02:21,  8.57s/it]"
     ]
    },
    {
     "name": "stdout",
     "output_type": "stream",
     "text": [
      "Retrying... Attempt 1 for INTEGRAEN\n",
      "Retrying... Attempt 2 for INTEGRAEN\n"
     ]
    },
    {
     "name": "stderr",
     "output_type": "stream",
     "text": [
      "Fetching Annual Reports:  12%|██████▎                                             | 233/1929 [36:53<4:36:21,  9.78s/it]"
     ]
    },
    {
     "name": "stdout",
     "output_type": "stream",
     "text": [
      "Retrying... Attempt 1 for RAJKSYN\n",
      "Retrying... Attempt 2 for RAJKSYN\n"
     ]
    },
    {
     "name": "stderr",
     "output_type": "stream",
     "text": [
      "Fetching Annual Reports:  12%|██████▎                                             | 234/1929 [37:03<4:43:36, 10.04s/it]"
     ]
    },
    {
     "name": "stdout",
     "output_type": "stream",
     "text": [
      "Retrying... Attempt 1 for HINFLUR\n",
      "Retrying... Attempt 2 for HINFLUR\n"
     ]
    },
    {
     "name": "stderr",
     "output_type": "stream",
     "text": [
      "Fetching Annual Reports:  12%|██████▎                                             | 235/1929 [37:12<4:37:19,  9.82s/it]"
     ]
    },
    {
     "name": "stdout",
     "output_type": "stream",
     "text": [
      "Retrying... Attempt 1 for PCS\n",
      "Retrying... Attempt 2 for PCS\n"
     ]
    },
    {
     "name": "stderr",
     "output_type": "stream",
     "text": [
      "Fetching Annual Reports:  12%|██████▎                                             | 236/1929 [37:22<4:34:37,  9.73s/it]"
     ]
    },
    {
     "name": "stdout",
     "output_type": "stream",
     "text": [
      "Retrying... Attempt 1 for LATIMMETAL\n",
      "Retrying... Attempt 2 for LATIMMETAL\n"
     ]
    },
    {
     "name": "stderr",
     "output_type": "stream",
     "text": [
      "Fetching Annual Reports:  12%|██████▍                                             | 237/1929 [37:29<4:10:10,  8.87s/it]"
     ]
    },
    {
     "name": "stdout",
     "output_type": "stream",
     "text": [
      "Retrying... Attempt 1 for SIKA\n",
      "Retrying... Attempt 2 for SIKA\n"
     ]
    },
    {
     "name": "stderr",
     "output_type": "stream",
     "text": [
      "Fetching Annual Reports:  12%|██████▍                                             | 238/1929 [37:37<4:05:09,  8.70s/it]"
     ]
    },
    {
     "name": "stdout",
     "output_type": "stream",
     "text": [
      "Retrying... Attempt 1 for BENARAS\n",
      "Retrying... Attempt 2 for BENARAS\n"
     ]
    },
    {
     "name": "stderr",
     "output_type": "stream",
     "text": [
      "Fetching Annual Reports:  12%|██████▍                                             | 239/1929 [37:45<3:53:48,  8.30s/it]"
     ]
    },
    {
     "name": "stdout",
     "output_type": "stream",
     "text": [
      "Retrying... Attempt 1 for VBDESAIFIN\n",
      "Retrying... Attempt 2 for VBDESAIFIN\n"
     ]
    },
    {
     "name": "stderr",
     "output_type": "stream",
     "text": [
      "Fetching Annual Reports:  12%|██████▍                                             | 240/1929 [37:52<3:45:49,  8.02s/it]"
     ]
    },
    {
     "name": "stdout",
     "output_type": "stream",
     "text": [
      "Retrying... Attempt 1 for JAYBHCR\n",
      "Retrying... Attempt 2 for JAYBHCR\n"
     ]
    },
    {
     "name": "stderr",
     "output_type": "stream",
     "text": [
      "Fetching Annual Reports:  12%|██████▍                                             | 241/1929 [38:05<4:26:01,  9.46s/it]"
     ]
    },
    {
     "name": "stdout",
     "output_type": "stream",
     "text": [
      "Retrying... Attempt 1 for GUJHOTE\n",
      "Retrying... Attempt 2 for GUJHOTE\n"
     ]
    },
    {
     "name": "stderr",
     "output_type": "stream",
     "text": [
      "Fetching Annual Reports:  13%|██████▌                                             | 242/1929 [38:11<3:59:40,  8.52s/it]"
     ]
    },
    {
     "name": "stdout",
     "output_type": "stream",
     "text": [
      "Retrying... Attempt 1 for ACROW\n",
      "Retrying... Attempt 2 for ACROW\n"
     ]
    },
    {
     "name": "stderr",
     "output_type": "stream",
     "text": [
      "Fetching Annual Reports:  13%|██████▌                                             | 243/1929 [38:19<3:53:16,  8.30s/it]"
     ]
    },
    {
     "name": "stdout",
     "output_type": "stream",
     "text": [
      "Retrying... Attempt 1 for CJGEL\n",
      "Retrying... Attempt 2 for CJGEL\n"
     ]
    },
    {
     "name": "stderr",
     "output_type": "stream",
     "text": [
      "Fetching Annual Reports:  13%|██████▌                                             | 245/1929 [38:33<3:28:20,  7.42s/it]"
     ]
    },
    {
     "name": "stdout",
     "output_type": "stream",
     "text": [
      "Retrying... Attempt 1 for LIMECHM\n",
      "Retrying... Attempt 2 for LIMECHM\n"
     ]
    },
    {
     "name": "stderr",
     "output_type": "stream",
     "text": [
      "Fetching Annual Reports:  13%|██████▋                                             | 246/1929 [38:45<4:06:22,  8.78s/it]"
     ]
    },
    {
     "name": "stdout",
     "output_type": "stream",
     "text": [
      "Retrying... Attempt 1 for BLUECHIPT\n",
      "Retrying... Attempt 2 for BLUECHIPT\n"
     ]
    },
    {
     "name": "stderr",
     "output_type": "stream",
     "text": [
      "Fetching Annual Reports:  13%|██████▋                                             | 247/1929 [38:54<4:08:09,  8.85s/it]"
     ]
    },
    {
     "name": "stdout",
     "output_type": "stream",
     "text": [
      "Retrying... Attempt 1 for MORGANITE\n",
      "Retrying... Attempt 2 for MORGANITE\n"
     ]
    },
    {
     "name": "stderr",
     "output_type": "stream",
     "text": [
      "Fetching Annual Reports:  13%|██████▋                                             | 248/1929 [39:06<4:29:08,  9.61s/it]"
     ]
    },
    {
     "name": "stdout",
     "output_type": "stream",
     "text": [
      "Retrying... Attempt 1 for SWITCHTE\n",
      "Retrying... Attempt 2 for SWITCHTE\n"
     ]
    },
    {
     "name": "stderr",
     "output_type": "stream",
     "text": [
      "Fetching Annual Reports:  13%|██████▋                                             | 249/1929 [39:13<4:12:47,  9.03s/it]"
     ]
    },
    {
     "name": "stdout",
     "output_type": "stream",
     "text": [
      "Retrying... Attempt 1 for ESTCSTSTEL\n",
      "Retrying... Attempt 2 for ESTCSTSTEL\n"
     ]
    },
    {
     "name": "stderr",
     "output_type": "stream",
     "text": [
      "Fetching Annual Reports:  13%|██████▋                                             | 250/1929 [39:27<4:51:13, 10.41s/it]"
     ]
    },
    {
     "name": "stdout",
     "output_type": "stream",
     "text": [
      "Retrying... Attempt 1 for KEYCORP\n",
      "Retrying... Attempt 2 for KEYCORP\n"
     ]
    },
    {
     "name": "stderr",
     "output_type": "stream",
     "text": [
      "Fetching Annual Reports:  13%|██████▊                                             | 251/1929 [39:38<4:58:12, 10.66s/it]"
     ]
    },
    {
     "name": "stdout",
     "output_type": "stream",
     "text": [
      "Retrying... Attempt 1 for RATHIST\n",
      "Retrying... Attempt 2 for RATHIST\n"
     ]
    },
    {
     "name": "stderr",
     "output_type": "stream",
     "text": [
      "Fetching Annual Reports:  13%|██████▊                                             | 252/1929 [39:46<4:36:27,  9.89s/it]"
     ]
    },
    {
     "name": "stdout",
     "output_type": "stream",
     "text": [
      "Retrying... Attempt 1 for STLSTRINF\n",
      "Retrying... Attempt 2 for STLSTRINF\n"
     ]
    },
    {
     "name": "stderr",
     "output_type": "stream",
     "text": [
      "Fetching Annual Reports:  13%|██████▊                                             | 253/1929 [39:55<4:23:46,  9.44s/it]"
     ]
    },
    {
     "name": "stdout",
     "output_type": "stream",
     "text": [
      "Retrying... Attempt 1 for UNIABEXAL\n",
      "Retrying... Attempt 2 for UNIABEXAL\n"
     ]
    },
    {
     "name": "stderr",
     "output_type": "stream",
     "text": [
      "Fetching Annual Reports:  13%|██████▊                                             | 254/1929 [40:02<4:02:50,  8.70s/it]"
     ]
    },
    {
     "name": "stdout",
     "output_type": "stream",
     "text": [
      "Retrying... Attempt 1 for MADSUDIND\n",
      "Retrying... Attempt 2 for MADSUDIND\n"
     ]
    },
    {
     "name": "stderr",
     "output_type": "stream",
     "text": [
      "Fetching Annual Reports:  13%|██████▊                                             | 255/1929 [40:12<4:16:27,  9.19s/it]"
     ]
    },
    {
     "name": "stdout",
     "output_type": "stream",
     "text": [
      "Retrying... Attempt 1 for AMALGAM\n",
      "Retrying... Attempt 2 for AMALGAM\n"
     ]
    },
    {
     "name": "stderr",
     "output_type": "stream",
     "text": [
      "Fetching Annual Reports:  13%|██████▉                                             | 256/1929 [40:23<4:34:25,  9.84s/it]"
     ]
    },
    {
     "name": "stdout",
     "output_type": "stream",
     "text": [
      "Retrying... Attempt 1 for GEE\n",
      "Retrying... Attempt 2 for GEE\n"
     ]
    },
    {
     "name": "stderr",
     "output_type": "stream",
     "text": [
      "Fetching Annual Reports:  13%|██████▉                                             | 257/1929 [40:31<4:15:24,  9.17s/it]"
     ]
    },
    {
     "name": "stdout",
     "output_type": "stream",
     "text": [
      "Retrying... Attempt 1 for KATRSPG\n",
      "Retrying... Attempt 2 for KATRSPG\n"
     ]
    },
    {
     "name": "stderr",
     "output_type": "stream",
     "text": [
      "Fetching Annual Reports:  13%|██████▉                                             | 258/1929 [40:40<4:16:32,  9.21s/it]"
     ]
    },
    {
     "name": "stdout",
     "output_type": "stream",
     "text": [
      "Retrying... Attempt 1 for KILBUNENGG\n",
      "Retrying... Attempt 2 for KILBUNENGG\n"
     ]
    },
    {
     "name": "stderr",
     "output_type": "stream",
     "text": [
      "Fetching Annual Reports:  13%|██████▉                                             | 259/1929 [40:52<4:39:31, 10.04s/it]"
     ]
    },
    {
     "name": "stdout",
     "output_type": "stream",
     "text": [
      "Retrying... Attempt 1 for NIRAVCOM\n",
      "Retrying... Attempt 2 for NIRAVCOM\n"
     ]
    },
    {
     "name": "stderr",
     "output_type": "stream",
     "text": [
      "Fetching Annual Reports:  13%|███████                                             | 260/1929 [41:04<4:51:14, 10.47s/it]"
     ]
    },
    {
     "name": "stdout",
     "output_type": "stream",
     "text": [
      "Retrying... Attempt 1 for BIRLAPREC\n",
      "Retrying... Attempt 2 for BIRLAPREC\n"
     ]
    },
    {
     "name": "stderr",
     "output_type": "stream",
     "text": [
      "Fetching Annual Reports:  14%|███████                                             | 261/1929 [41:18<5:18:11, 11.45s/it]"
     ]
    },
    {
     "name": "stdout",
     "output_type": "stream",
     "text": [
      "Retrying... Attempt 1 for DUNCANENG\n",
      "Retrying... Attempt 2 for DUNCANENG\n"
     ]
    },
    {
     "name": "stderr",
     "output_type": "stream",
     "text": [
      "Fetching Annual Reports:  14%|███████                                             | 262/1929 [41:26<4:49:10, 10.41s/it]"
     ]
    },
    {
     "name": "stdout",
     "output_type": "stream",
     "text": [
      "Retrying... Attempt 1 for CHMBBRW\n",
      "Retrying... Attempt 2 for CHMBBRW\n"
     ]
    },
    {
     "name": "stderr",
     "output_type": "stream",
     "text": [
      "Fetching Annual Reports:  14%|███████                                             | 263/1929 [41:39<5:15:44, 11.37s/it]"
     ]
    },
    {
     "name": "stdout",
     "output_type": "stream",
     "text": [
      "Retrying... Attempt 1 for ZMILGFIN\n",
      "Retrying... Attempt 2 for ZMILGFIN\n"
     ]
    },
    {
     "name": "stderr",
     "output_type": "stream",
     "text": [
      "Fetching Annual Reports:  14%|███████                                             | 264/1929 [41:52<5:30:00, 11.89s/it]"
     ]
    },
    {
     "name": "stdout",
     "output_type": "stream",
     "text": [
      "Retrying... Attempt 1 for MINID\n",
      "Retrying... Attempt 2 for MINID\n"
     ]
    },
    {
     "name": "stderr",
     "output_type": "stream",
     "text": [
      "Fetching Annual Reports:  14%|███████▏                                            | 265/1929 [42:04<5:27:59, 11.83s/it]"
     ]
    },
    {
     "name": "stdout",
     "output_type": "stream",
     "text": [
      "Retrying... Attempt 1 for VENLONPOLY\n",
      "Retrying... Attempt 2 for VENLONPOLY\n"
     ]
    },
    {
     "name": "stderr",
     "output_type": "stream",
     "text": [
      "Fetching Annual Reports:  14%|███████▏                                            | 266/1929 [42:16<5:25:40, 11.75s/it]"
     ]
    },
    {
     "name": "stdout",
     "output_type": "stream",
     "text": [
      "Retrying... Attempt 1 for ATVPROJ\n",
      "Retrying... Attempt 2 for ATVPROJ\n"
     ]
    },
    {
     "name": "stderr",
     "output_type": "stream",
     "text": [
      "Fetching Annual Reports:  14%|███████▏                                            | 267/1929 [42:25<5:06:59, 11.08s/it]"
     ]
    },
    {
     "name": "stdout",
     "output_type": "stream",
     "text": [
      "Retrying... Attempt 1 for ASHNOOR\n",
      "Retrying... Attempt 2 for ASHNOOR\n"
     ]
    },
    {
     "name": "stderr",
     "output_type": "stream",
     "text": [
      "Fetching Annual Reports:  14%|███████▏                                            | 268/1929 [42:36<5:08:18, 11.14s/it]"
     ]
    },
    {
     "name": "stdout",
     "output_type": "stream",
     "text": [
      "Retrying... Attempt 1 for DEEPAKSPIN\n",
      "Retrying... Attempt 2 for DEEPAKSPIN\n"
     ]
    },
    {
     "name": "stderr",
     "output_type": "stream",
     "text": [
      "Fetching Annual Reports:  14%|███████▎                                            | 269/1929 [42:45<4:52:07, 10.56s/it]"
     ]
    },
    {
     "name": "stdout",
     "output_type": "stream",
     "text": [
      "Retrying... Attempt 1 for ADINATH\n",
      "Retrying... Attempt 2 for ADINATH\n"
     ]
    },
    {
     "name": "stderr",
     "output_type": "stream",
     "text": [
      "Fetching Annual Reports:  14%|███████▎                                            | 270/1929 [42:58<5:07:12, 11.11s/it]"
     ]
    },
    {
     "name": "stdout",
     "output_type": "stream",
     "text": [
      "Retrying... Attempt 1 for BIHARSPONG\n",
      "Retrying... Attempt 2 for BIHARSPONG\n"
     ]
    },
    {
     "name": "stderr",
     "output_type": "stream",
     "text": [
      "Fetching Annual Reports:  14%|███████▎                                            | 271/1929 [43:07<4:47:03, 10.39s/it]"
     ]
    },
    {
     "name": "stdout",
     "output_type": "stream",
     "text": [
      "Retrying... Attempt 1 for SAINTGOBAI\n",
      "Retrying... Attempt 2 for SAINTGOBAI\n"
     ]
    },
    {
     "name": "stderr",
     "output_type": "stream",
     "text": [
      "Fetching Annual Reports:  14%|███████▎                                            | 272/1929 [43:17<4:49:03, 10.47s/it]"
     ]
    },
    {
     "name": "stdout",
     "output_type": "stream",
     "text": [
      "Retrying... Attempt 1 for ADORMUL\n",
      "Retrying... Attempt 2 for ADORMUL\n"
     ]
    },
    {
     "name": "stderr",
     "output_type": "stream",
     "text": [
      "Fetching Annual Reports:  14%|███████▎                                            | 273/1929 [43:27<4:44:28, 10.31s/it]"
     ]
    },
    {
     "name": "stdout",
     "output_type": "stream",
     "text": [
      "Retrying... Attempt 1 for HIGHENE\n",
      "Retrying... Attempt 2 for HIGHENE\n"
     ]
    },
    {
     "name": "stderr",
     "output_type": "stream",
     "text": [
      "Fetching Annual Reports:  14%|███████▍                                            | 274/1929 [43:41<5:10:01, 11.24s/it]"
     ]
    },
    {
     "name": "stdout",
     "output_type": "stream",
     "text": [
      "Retrying... Attempt 1 for BHARATSE\n",
      "Retrying... Attempt 2 for BHARATSE\n"
     ]
    },
    {
     "name": "stderr",
     "output_type": "stream",
     "text": [
      "Fetching Annual Reports:  14%|███████▍                                            | 275/1929 [43:48<4:39:32, 10.14s/it]"
     ]
    },
    {
     "name": "stdout",
     "output_type": "stream",
     "text": [
      "Retrying... Attempt 1 for JAYUSH\n",
      "Retrying... Attempt 2 for JAYUSH\n"
     ]
    },
    {
     "name": "stderr",
     "output_type": "stream",
     "text": [
      "Fetching Annual Reports:  14%|███████▍                                            | 276/1929 [44:00<4:51:12, 10.57s/it]"
     ]
    },
    {
     "name": "stdout",
     "output_type": "stream",
     "text": [
      "Retrying... Attempt 1 for SUPER\n",
      "Retrying... Attempt 2 for SUPER\n"
     ]
    },
    {
     "name": "stderr",
     "output_type": "stream",
     "text": [
      "Fetching Annual Reports:  14%|███████▍                                            | 278/1929 [44:12<3:37:26,  7.90s/it]"
     ]
    },
    {
     "name": "stdout",
     "output_type": "stream",
     "text": [
      "Retrying... Attempt 1 for SAMKRG\n",
      "Retrying... Attempt 2 for SAMKRG\n"
     ]
    },
    {
     "name": "stderr",
     "output_type": "stream",
     "text": [
      "Fetching Annual Reports:  14%|███████▌                                            | 279/1929 [44:24<4:18:24,  9.40s/it]"
     ]
    },
    {
     "name": "stdout",
     "output_type": "stream",
     "text": [
      "Retrying... Attempt 1 for PRSNTIN\n",
      "Retrying... Attempt 2 for PRSNTIN\n"
     ]
    },
    {
     "name": "stderr",
     "output_type": "stream",
     "text": [
      "Fetching Annual Reports:  15%|███████▌                                            | 280/1929 [44:36<4:34:29,  9.99s/it]"
     ]
    },
    {
     "name": "stdout",
     "output_type": "stream",
     "text": [
      "Retrying... Attempt 1 for GVFILM\n",
      "Retrying... Attempt 2 for GVFILM\n"
     ]
    },
    {
     "name": "stderr",
     "output_type": "stream",
     "text": [
      "Fetching Annual Reports:  15%|███████▌                                            | 281/1929 [44:46<4:34:45, 10.00s/it]"
     ]
    },
    {
     "name": "stdout",
     "output_type": "stream",
     "text": [
      "Retrying... Attempt 1 for TECHNVISN\n",
      "Retrying... Attempt 2 for TECHNVISN\n"
     ]
    },
    {
     "name": "stderr",
     "output_type": "stream",
     "text": [
      "Fetching Annual Reports:  15%|███████▌                                            | 282/1929 [44:59<5:01:48, 11.00s/it]"
     ]
    },
    {
     "name": "stdout",
     "output_type": "stream",
     "text": [
      "Retrying... Attempt 1 for EFCIL\n",
      "Retrying... Attempt 2 for EFCIL\n"
     ]
    },
    {
     "name": "stderr",
     "output_type": "stream",
     "text": [
      "Fetching Annual Reports:  15%|███████▋                                            | 283/1929 [45:10<4:57:06, 10.83s/it]"
     ]
    },
    {
     "name": "stdout",
     "output_type": "stream",
     "text": [
      "Retrying... Attempt 1 for BAPACK\n",
      "Retrying... Attempt 2 for BAPACK\n"
     ]
    },
    {
     "name": "stderr",
     "output_type": "stream",
     "text": [
      "Fetching Annual Reports:  15%|███████▋                                            | 284/1929 [45:20<4:55:41, 10.78s/it]"
     ]
    },
    {
     "name": "stdout",
     "output_type": "stream",
     "text": [
      "Retrying... Attempt 1 for KLRF\n",
      "Retrying... Attempt 2 for KLRF\n"
     ]
    },
    {
     "name": "stderr",
     "output_type": "stream",
     "text": [
      "Fetching Annual Reports:  15%|███████▋                                            | 285/1929 [45:29<4:38:10, 10.15s/it]"
     ]
    },
    {
     "name": "stdout",
     "output_type": "stream",
     "text": [
      "Retrying... Attempt 1 for ZSARACOM\n",
      "Retrying... Attempt 2 for ZSARACOM\n"
     ]
    },
    {
     "name": "stderr",
     "output_type": "stream",
     "text": [
      "Fetching Annual Reports:  15%|███████▋                                            | 286/1929 [45:37<4:16:54,  9.38s/it]"
     ]
    },
    {
     "name": "stdout",
     "output_type": "stream",
     "text": [
      "Retrying... Attempt 1 for SHRIGANG\n",
      "Retrying... Attempt 2 for SHRIGANG\n"
     ]
    },
    {
     "name": "stderr",
     "output_type": "stream",
     "text": [
      "Fetching Annual Reports:  15%|███████▋                                            | 287/1929 [45:47<4:27:57,  9.79s/it]"
     ]
    },
    {
     "name": "stdout",
     "output_type": "stream",
     "text": [
      "Retrying... Attempt 1 for LAKSHMIMIL\n",
      "Retrying... Attempt 2 for LAKSHMIMIL\n"
     ]
    },
    {
     "name": "stderr",
     "output_type": "stream",
     "text": [
      "Fetching Annual Reports:  15%|███████▊                                            | 288/1929 [45:54<4:05:24,  8.97s/it]"
     ]
    },
    {
     "name": "stdout",
     "output_type": "stream",
     "text": [
      "Retrying... Attempt 1 for SHRJAGP\n",
      "Retrying... Attempt 2 for SHRJAGP\n"
     ]
    },
    {
     "name": "stderr",
     "output_type": "stream",
     "text": [
      "Fetching Annual Reports:  15%|███████▊                                            | 289/1929 [46:06<4:26:34,  9.75s/it]"
     ]
    },
    {
     "name": "stdout",
     "output_type": "stream",
     "text": [
      "Retrying... Attempt 1 for INDIALEASE\n",
      "Retrying... Attempt 2 for INDIALEASE\n"
     ]
    },
    {
     "name": "stderr",
     "output_type": "stream",
     "text": [
      "Fetching Annual Reports:  15%|███████▊                                            | 290/1929 [46:15<4:22:01,  9.59s/it]"
     ]
    },
    {
     "name": "stdout",
     "output_type": "stream",
     "text": [
      "Retrying... Attempt 1 for HATHWAYB\n",
      "Retrying... Attempt 2 for HATHWAYB\n"
     ]
    },
    {
     "name": "stderr",
     "output_type": "stream",
     "text": [
      "Fetching Annual Reports:  15%|███████▊                                            | 291/1929 [46:26<4:30:30,  9.91s/it]"
     ]
    },
    {
     "name": "stdout",
     "output_type": "stream",
     "text": [
      "Retrying... Attempt 1 for PSITINFRA\n",
      "Retrying... Attempt 2 for PSITINFRA\n"
     ]
    },
    {
     "name": "stderr",
     "output_type": "stream",
     "text": [
      "Fetching Annual Reports:  15%|███████▊                                            | 292/1929 [46:32<4:02:53,  8.90s/it]"
     ]
    },
    {
     "name": "stdout",
     "output_type": "stream",
     "text": [
      "Retrying... Attempt 1 for ZBINTXPP\n",
      "Retrying... Attempt 2 for ZBINTXPP\n"
     ]
    },
    {
     "name": "stderr",
     "output_type": "stream",
     "text": [
      "Fetching Annual Reports:  15%|███████▉                                            | 293/1929 [46:41<3:57:46,  8.72s/it]"
     ]
    },
    {
     "name": "stdout",
     "output_type": "stream",
     "text": [
      "Retrying... Attempt 1 for MAHACORP\n",
      "Retrying... Attempt 2 for MAHACORP\n"
     ]
    },
    {
     "name": "stderr",
     "output_type": "stream",
     "text": [
      "Fetching Annual Reports:  15%|███████▉                                            | 294/1929 [46:51<4:10:02,  9.18s/it]"
     ]
    },
    {
     "name": "stdout",
     "output_type": "stream",
     "text": [
      "Retrying... Attempt 1 for DRBECK\n",
      "Retrying... Attempt 2 for DRBECK\n"
     ]
    },
    {
     "name": "stderr",
     "output_type": "stream",
     "text": [
      "Fetching Annual Reports:  15%|███████▉                                            | 295/1929 [47:01<4:20:15,  9.56s/it]"
     ]
    },
    {
     "name": "stdout",
     "output_type": "stream",
     "text": [
      "Retrying... Attempt 1 for HARDCAS\n",
      "Retrying... Attempt 2 for HARDCAS\n"
     ]
    },
    {
     "name": "stderr",
     "output_type": "stream",
     "text": [
      "Fetching Annual Reports:  15%|███████▉                                            | 296/1929 [47:10<4:12:45,  9.29s/it]"
     ]
    },
    {
     "name": "stdout",
     "output_type": "stream",
     "text": [
      "Retrying... Attempt 1 for WIREFABR\n",
      "Retrying... Attempt 2 for WIREFABR\n"
     ]
    },
    {
     "name": "stderr",
     "output_type": "stream",
     "text": [
      "Fetching Annual Reports:  15%|████████                                            | 297/1929 [47:19<4:08:18,  9.13s/it]"
     ]
    },
    {
     "name": "stdout",
     "output_type": "stream",
     "text": [
      "Retrying... Attempt 1 for IRONWOOD\n",
      "Retrying... Attempt 2 for IRONWOOD\n"
     ]
    },
    {
     "name": "stderr",
     "output_type": "stream",
     "text": [
      "Fetching Annual Reports:  15%|████████                                            | 298/1929 [47:27<4:01:19,  8.88s/it]"
     ]
    },
    {
     "name": "stdout",
     "output_type": "stream",
     "text": [
      "Retrying... Attempt 1 for KONARKSY\n",
      "Retrying... Attempt 2 for KONARKSY\n"
     ]
    },
    {
     "name": "stderr",
     "output_type": "stream",
     "text": [
      "Fetching Annual Reports:  16%|████████                                            | 299/1929 [47:36<4:02:13,  8.92s/it]"
     ]
    },
    {
     "name": "stdout",
     "output_type": "stream",
     "text": [
      "Retrying... Attempt 1 for JAIPAN\n",
      "Retrying... Attempt 2 for JAIPAN\n"
     ]
    },
    {
     "name": "stderr",
     "output_type": "stream",
     "text": [
      "Fetching Annual Reports:  16%|████████                                            | 300/1929 [47:45<4:06:12,  9.07s/it]"
     ]
    },
    {
     "name": "stdout",
     "output_type": "stream",
     "text": [
      "Retrying... Attempt 1 for LUHARUKA\n",
      "Retrying... Attempt 2 for LUHARUKA\n"
     ]
    },
    {
     "name": "stderr",
     "output_type": "stream",
     "text": [
      "Fetching Annual Reports:  16%|████████                                            | 301/1929 [47:55<4:06:26,  9.08s/it]"
     ]
    },
    {
     "name": "stdout",
     "output_type": "stream",
     "text": [
      "Retrying... Attempt 1 for LKPMERFIN\n",
      "Retrying... Attempt 2 for LKPMERFIN\n"
     ]
    },
    {
     "name": "stderr",
     "output_type": "stream",
     "text": [
      "Fetching Annual Reports:  16%|████████▏                                           | 302/1929 [48:07<4:31:30, 10.01s/it]"
     ]
    },
    {
     "name": "stdout",
     "output_type": "stream",
     "text": [
      "Retrying... Attempt 1 for TITANIN\n",
      "Retrying... Attempt 2 for TITANIN\n"
     ]
    },
    {
     "name": "stderr",
     "output_type": "stream",
     "text": [
      "Fetching Annual Reports:  16%|████████▏                                           | 303/1929 [48:16<4:25:41,  9.80s/it]"
     ]
    },
    {
     "name": "stdout",
     "output_type": "stream",
     "text": [
      "Retrying... Attempt 1 for JAMSHRI\n",
      "Retrying... Attempt 2 for JAMSHRI\n"
     ]
    },
    {
     "name": "stderr",
     "output_type": "stream",
     "text": [
      "Fetching Annual Reports:  16%|████████▏                                           | 304/1929 [48:23<4:04:16,  9.02s/it]"
     ]
    },
    {
     "name": "stdout",
     "output_type": "stream",
     "text": [
      "Retrying... Attempt 1 for MEDIAONE\n",
      "Retrying... Attempt 2 for MEDIAONE\n"
     ]
    },
    {
     "name": "stderr",
     "output_type": "stream",
     "text": [
      "Fetching Annual Reports:  16%|████████▏                                           | 305/1929 [48:34<4:20:37,  9.63s/it]"
     ]
    },
    {
     "name": "stdout",
     "output_type": "stream",
     "text": [
      "Retrying... Attempt 1 for VADILENT\n",
      "Retrying... Attempt 2 for VADILENT\n"
     ]
    },
    {
     "name": "stderr",
     "output_type": "stream",
     "text": [
      "Fetching Annual Reports:  16%|████████▏                                           | 306/1929 [48:44<4:17:01,  9.50s/it]"
     ]
    },
    {
     "name": "stdout",
     "output_type": "stream",
     "text": [
      "Retrying... Attempt 1 for KEERTHI\n",
      "Retrying... Attempt 2 for KEERTHI\n"
     ]
    },
    {
     "name": "stderr",
     "output_type": "stream",
     "text": [
      "Fetching Annual Reports:  16%|████████▎                                           | 307/1929 [48:54<4:27:50,  9.91s/it]"
     ]
    },
    {
     "name": "stdout",
     "output_type": "stream",
     "text": [
      "Retrying... Attempt 1 for SHRICON\n",
      "Retrying... Attempt 2 for SHRICON\n"
     ]
    },
    {
     "name": "stderr",
     "output_type": "stream",
     "text": [
      "Fetching Annual Reports:  16%|████████▎                                           | 308/1929 [49:04<4:24:33,  9.79s/it]"
     ]
    },
    {
     "name": "stdout",
     "output_type": "stream",
     "text": [
      "Retrying... Attempt 1 for NOL\n",
      "Retrying... Attempt 2 for NOL\n"
     ]
    },
    {
     "name": "stderr",
     "output_type": "stream",
     "text": [
      "Fetching Annual Reports:  16%|████████▎                                           | 309/1929 [49:13<4:22:34,  9.72s/it]"
     ]
    },
    {
     "name": "stdout",
     "output_type": "stream",
     "text": [
      "Retrying... Attempt 1 for KERALACHEM\n",
      "Retrying... Attempt 2 for KERALACHEM\n"
     ]
    },
    {
     "name": "stderr",
     "output_type": "stream",
     "text": [
      "Fetching Annual Reports:  16%|████████▎                                           | 310/1929 [49:27<4:53:37, 10.88s/it]"
     ]
    },
    {
     "name": "stdout",
     "output_type": "stream",
     "text": [
      "Retrying... Attempt 1 for MEDICAPS\n",
      "Retrying... Attempt 2 for MEDICAPS\n"
     ]
    },
    {
     "name": "stderr",
     "output_type": "stream",
     "text": [
      "Fetching Annual Reports:  16%|████████▍                                           | 311/1929 [49:37<4:46:55, 10.64s/it]"
     ]
    },
    {
     "name": "stdout",
     "output_type": "stream",
     "text": [
      "Retrying... Attempt 1 for UNITEDINT\n",
      "Retrying... Attempt 2 for UNITEDINT\n"
     ]
    },
    {
     "name": "stderr",
     "output_type": "stream",
     "text": [
      "Fetching Annual Reports:  16%|████████▍                                           | 312/1929 [49:45<4:27:24,  9.92s/it]"
     ]
    },
    {
     "name": "stdout",
     "output_type": "stream",
     "text": [
      "Retrying... Attempt 1 for STRLGUA\n",
      "Retrying... Attempt 2 for STRLGUA\n"
     ]
    },
    {
     "name": "stderr",
     "output_type": "stream",
     "text": [
      "Fetching Annual Reports:  16%|████████▍                                           | 313/1929 [49:56<4:35:37, 10.23s/it]"
     ]
    }
   ],
   "source": [
    "# Loop through each NSE code and fetch reports with progress bar\n",
    "for nse_code in tqdm(nse_codes, desc=\"Fetching Annual Reports\"):\n",
    "    attempts = 0\n",
    "    max_attempts = 0  # Set a maximum number of attempts\n",
    "\n",
    "    while attempts < max_attempts:\n",
    "        annual_reports = fetch_annual_reports(session, nse_code)\n",
    "        if annual_reports:\n",
    "            for report in annual_reports:\n",
    "                results.append({\n",
    "                    'nse_code': nse_code,\n",
    "                    'company_name': report['companyName'],  # Add company name\n",
    "                    'year': f\"{report['fromYr']} - {report['toYr']}\",\n",
    "                    'link': report['fileName']\n",
    "                })\n",
    "            # Save progress periodically\n",
    "            if len(results) % 50 == 0:\n",
    "                save_results()\n",
    "            break  # Break if successful\n",
    "        else:\n",
    "            attempts += 1\n",
    "            print(f\"Retrying... Attempt {attempts} for {nse_code}\")\n",
    "            time.sleep(1)  # Delay before retrying"
   ]
  },
  {
   "cell_type": "code",
   "execution_count": null,
   "id": "2d120deb-59e7-4bac-a0d5-bcace94568bd",
   "metadata": {},
   "outputs": [],
   "source": [
    "# Save the final results to a CSV file\n",
    "save_results()  # Final save for all fetched data\n",
    "results_df = pd.DataFrame(results)\n",
    "results_df.to_csv(output_file, index=False)\n",
    "print(f\"Annual reports saved to {output_file}.\")\n"
   ]
  },
  {
   "cell_type": "code",
   "execution_count": null,
   "id": "3b9be81c-88a0-4047-b429-b625b57241ea",
   "metadata": {},
   "outputs": [],
   "source": []
  }
 ],
 "metadata": {
  "kernelspec": {
   "display_name": "Python 3 (ipykernel)",
   "language": "python",
   "name": "python3"
  },
  "language_info": {
   "codemirror_mode": {
    "name": "ipython",
    "version": 3
   },
   "file_extension": ".py",
   "mimetype": "text/x-python",
   "name": "python",
   "nbconvert_exporter": "python",
   "pygments_lexer": "ipython3",
   "version": "3.12.4"
  }
 },
 "nbformat": 4,
 "nbformat_minor": 5
}
